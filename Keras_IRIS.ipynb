{
  "nbformat": 4,
  "nbformat_minor": 0,
  "metadata": {
    "colab": {
      "name": "Keras - IRIS.ipynb",
      "version": "0.3.2",
      "provenance": [],
      "include_colab_link": true
    },
    "kernelspec": {
      "name": "python3",
      "display_name": "Python 3"
    },
    "accelerator": "GPU"
  },
  "cells": [
    {
      "cell_type": "markdown",
      "metadata": {
        "id": "view-in-github",
        "colab_type": "text"
      },
      "source": [
        "<a href=\"https://colab.research.google.com/github/Aashay7/tf_Play/blob/master/Keras_IRIS.ipynb\" target=\"_parent\"><img src=\"https://colab.research.google.com/assets/colab-badge.svg\" alt=\"Open In Colab\"/></a>"
      ]
    },
    {
      "metadata": {
        "id": "Sx-cQxbo56Oz",
        "colab_type": "code",
        "colab": {
          "base_uri": "https://localhost:8080/",
          "height": 34
        },
        "outputId": "b5239b02-b5c6-481a-a792-e09caff01d90"
      },
      "cell_type": "code",
      "source": [
        "import numpy as np\n",
        "import keras\n",
        "import tensorflow as tf\n",
        "import pandas as pd\n",
        "from sklearn.preprocessing import LabelEncoder\n",
        "import math\n",
        "\n",
        "from google.colab import drive"
      ],
      "execution_count": 1,
      "outputs": [
        {
          "output_type": "stream",
          "text": [
            "Using TensorFlow backend.\n"
          ],
          "name": "stderr"
        }
      ]
    },
    {
      "metadata": {
        "id": "wDgHuUJ-6R3X",
        "colab_type": "code",
        "outputId": "57d83e05-3f13-4a11-f03c-b24d5bc9bb3f",
        "colab": {
          "base_uri": "https://localhost:8080/",
          "height": 160
        }
      },
      "cell_type": "code",
      "source": [
        "drive.mount(\"/content/drive\")\n",
        "print(tf.__version__)\n",
        "%ls"
      ],
      "execution_count": 2,
      "outputs": [
        {
          "output_type": "stream",
          "text": [
            "Go to this URL in a browser: https://accounts.google.com/o/oauth2/auth?client_id=947318989803-6bn6qk8qdgf4n4g3pfee6491hc0brc4i.apps.googleusercontent.com&redirect_uri=urn%3Aietf%3Awg%3Aoauth%3A2.0%3Aoob&scope=email%20https%3A%2F%2Fwww.googleapis.com%2Fauth%2Fdocs.test%20https%3A%2F%2Fwww.googleapis.com%2Fauth%2Fdrive%20https%3A%2F%2Fwww.googleapis.com%2Fauth%2Fdrive.photos.readonly%20https%3A%2F%2Fwww.googleapis.com%2Fauth%2Fpeopleapi.readonly&response_type=code\n",
            "\n",
            "Enter your authorization code:\n",
            "··········\n",
            "Mounted at /content/drive\n",
            "1.13.1\n",
            "\u001b[0m\u001b[01;34mdrive\u001b[0m/  \u001b[01;34msample_data\u001b[0m/\n"
          ],
          "name": "stdout"
        }
      ]
    },
    {
      "metadata": {
        "id": "SOwGfO7O-KRr",
        "colab_type": "code",
        "colab": {}
      },
      "cell_type": "code",
      "source": [
        "%cd drive/My\\ Drive\n",
        "!ls"
      ],
      "execution_count": 0,
      "outputs": []
    },
    {
      "metadata": {
        "id": "WvlyMJG6_113",
        "colab_type": "code",
        "outputId": "12ca1790-54ee-4365-957a-bb05d355faad",
        "colab": {
          "base_uri": "https://localhost:8080/",
          "height": 52
        }
      },
      "cell_type": "code",
      "source": [
        "%cd Deep\\ Learning\\ -\\ Google\n",
        "%cd data"
      ],
      "execution_count": 6,
      "outputs": [
        {
          "output_type": "stream",
          "text": [
            "/content/drive/My Drive/Deep Learning - Google\n",
            "/content/drive/My Drive/Deep Learning - Google/data\n"
          ],
          "name": "stdout"
        }
      ]
    },
    {
      "metadata": {
        "id": "w6seVyeI6fHQ",
        "colab_type": "code",
        "outputId": "3930af70-abb4-48bc-d8b0-26fa4060258d",
        "colab": {
          "base_uri": "https://localhost:8080/",
          "height": 34
        }
      },
      "cell_type": "code",
      "source": [
        "!ls"
      ],
      "execution_count": 7,
      "outputs": [
        {
          "output_type": "stream",
          "text": [
            "iris.data\n"
          ],
          "name": "stdout"
        }
      ]
    },
    {
      "metadata": {
        "id": "VHZ24BJJ8Jyc",
        "colab_type": "code",
        "colab": {}
      },
      "cell_type": "code",
      "source": [
        "df_raw = pd.read_csv('iris.data')"
      ],
      "execution_count": 0,
      "outputs": []
    },
    {
      "metadata": {
        "id": "Lzlbn-BeAlVB",
        "colab_type": "code",
        "outputId": "5eff8bc4-64e2-44e0-824c-0b98c7e366a7",
        "colab": {
          "base_uri": "https://localhost:8080/",
          "height": 34
        }
      },
      "cell_type": "code",
      "source": [
        "df_raw.columns"
      ],
      "execution_count": 9,
      "outputs": [
        {
          "output_type": "execute_result",
          "data": {
            "text/plain": [
              "Index(['5.1', '3.5', '1.4', '0.2', 'Iris-setosa'], dtype='object')"
            ]
          },
          "metadata": {
            "tags": []
          },
          "execution_count": 9
        }
      ]
    },
    {
      "metadata": {
        "id": "BVwFtH91EWZN",
        "colab_type": "code",
        "colab": {}
      },
      "cell_type": "code",
      "source": [
        ""
      ],
      "execution_count": 0,
      "outputs": []
    },
    {
      "metadata": {
        "id": "2sINKof7CPU9",
        "colab_type": "code",
        "colab": {}
      },
      "cell_type": "code",
      "source": [
        "df_raw.columns= [\"Sepal length\",\"Sepal height\",\"Petal length\",\"Petal width\",\"Class\"]\n",
        "#sepal length in cm2. sepal width in cm3. petal length in cm4. petal width in cm "
      ],
      "execution_count": 0,
      "outputs": []
    },
    {
      "metadata": {
        "id": "MNRi1Oyu6qti",
        "colab_type": "code",
        "outputId": "8a14cf6d-8b06-4888-f2b8-a3026d9816e6",
        "colab": {
          "base_uri": "https://localhost:8080/",
          "height": 34
        }
      },
      "cell_type": "code",
      "source": [
        "len(df_raw.Class)"
      ],
      "execution_count": 11,
      "outputs": [
        {
          "output_type": "execute_result",
          "data": {
            "text/plain": [
              "149"
            ]
          },
          "metadata": {
            "tags": []
          },
          "execution_count": 11
        }
      ]
    },
    {
      "metadata": {
        "id": "zOiPx6qPFyIg",
        "colab_type": "code",
        "colab": {}
      },
      "cell_type": "code",
      "source": [
        "df = df_raw.drop(\"Class\",axis=1)"
      ],
      "execution_count": 0,
      "outputs": []
    },
    {
      "metadata": {
        "id": "zzO4QfCDGR10",
        "colab_type": "code",
        "outputId": "610804e1-71c9-4884-d332-7a553f087b46",
        "colab": {
          "base_uri": "https://localhost:8080/",
          "height": 203
        }
      },
      "cell_type": "code",
      "source": [
        "df.head(5)"
      ],
      "execution_count": 13,
      "outputs": [
        {
          "output_type": "execute_result",
          "data": {
            "text/html": [
              "<div>\n",
              "<style scoped>\n",
              "    .dataframe tbody tr th:only-of-type {\n",
              "        vertical-align: middle;\n",
              "    }\n",
              "\n",
              "    .dataframe tbody tr th {\n",
              "        vertical-align: top;\n",
              "    }\n",
              "\n",
              "    .dataframe thead th {\n",
              "        text-align: right;\n",
              "    }\n",
              "</style>\n",
              "<table border=\"1\" class=\"dataframe\">\n",
              "  <thead>\n",
              "    <tr style=\"text-align: right;\">\n",
              "      <th></th>\n",
              "      <th>Sepal length</th>\n",
              "      <th>Sepal height</th>\n",
              "      <th>Petal length</th>\n",
              "      <th>Petal width</th>\n",
              "    </tr>\n",
              "  </thead>\n",
              "  <tbody>\n",
              "    <tr>\n",
              "      <th>0</th>\n",
              "      <td>4.9</td>\n",
              "      <td>3.0</td>\n",
              "      <td>1.4</td>\n",
              "      <td>0.2</td>\n",
              "    </tr>\n",
              "    <tr>\n",
              "      <th>1</th>\n",
              "      <td>4.7</td>\n",
              "      <td>3.2</td>\n",
              "      <td>1.3</td>\n",
              "      <td>0.2</td>\n",
              "    </tr>\n",
              "    <tr>\n",
              "      <th>2</th>\n",
              "      <td>4.6</td>\n",
              "      <td>3.1</td>\n",
              "      <td>1.5</td>\n",
              "      <td>0.2</td>\n",
              "    </tr>\n",
              "    <tr>\n",
              "      <th>3</th>\n",
              "      <td>5.0</td>\n",
              "      <td>3.6</td>\n",
              "      <td>1.4</td>\n",
              "      <td>0.2</td>\n",
              "    </tr>\n",
              "    <tr>\n",
              "      <th>4</th>\n",
              "      <td>5.4</td>\n",
              "      <td>3.9</td>\n",
              "      <td>1.7</td>\n",
              "      <td>0.4</td>\n",
              "    </tr>\n",
              "  </tbody>\n",
              "</table>\n",
              "</div>"
            ],
            "text/plain": [
              "   Sepal length  Sepal height  Petal length  Petal width\n",
              "0           4.9           3.0           1.4          0.2\n",
              "1           4.7           3.2           1.3          0.2\n",
              "2           4.6           3.1           1.5          0.2\n",
              "3           5.0           3.6           1.4          0.2\n",
              "4           5.4           3.9           1.7          0.4"
            ]
          },
          "metadata": {
            "tags": []
          },
          "execution_count": 13
        }
      ]
    },
    {
      "metadata": {
        "id": "QXaESQsRHBV6",
        "colab_type": "code",
        "outputId": "d5dee96e-1c06-4eea-cbd4-1f6cfbc25470",
        "colab": {
          "base_uri": "https://localhost:8080/",
          "height": 79
        }
      },
      "cell_type": "code",
      "source": [
        "le = LabelEncoder()\n",
        "df_raw.Class = le.fit_transform(df_raw.Class)\n",
        "df_raw.loc[0:0]"
      ],
      "execution_count": 14,
      "outputs": [
        {
          "output_type": "execute_result",
          "data": {
            "text/html": [
              "<div>\n",
              "<style scoped>\n",
              "    .dataframe tbody tr th:only-of-type {\n",
              "        vertical-align: middle;\n",
              "    }\n",
              "\n",
              "    .dataframe tbody tr th {\n",
              "        vertical-align: top;\n",
              "    }\n",
              "\n",
              "    .dataframe thead th {\n",
              "        text-align: right;\n",
              "    }\n",
              "</style>\n",
              "<table border=\"1\" class=\"dataframe\">\n",
              "  <thead>\n",
              "    <tr style=\"text-align: right;\">\n",
              "      <th></th>\n",
              "      <th>Sepal length</th>\n",
              "      <th>Sepal height</th>\n",
              "      <th>Petal length</th>\n",
              "      <th>Petal width</th>\n",
              "      <th>Class</th>\n",
              "    </tr>\n",
              "  </thead>\n",
              "  <tbody>\n",
              "    <tr>\n",
              "      <th>0</th>\n",
              "      <td>4.9</td>\n",
              "      <td>3.0</td>\n",
              "      <td>1.4</td>\n",
              "      <td>0.2</td>\n",
              "      <td>0</td>\n",
              "    </tr>\n",
              "  </tbody>\n",
              "</table>\n",
              "</div>"
            ],
            "text/plain": [
              "   Sepal length  Sepal height  Petal length  Petal width  Class\n",
              "0           4.9           3.0           1.4          0.2      0"
            ]
          },
          "metadata": {
            "tags": []
          },
          "execution_count": 14
        }
      ]
    },
    {
      "metadata": {
        "id": "TuXlIlSnr2gH",
        "colab_type": "code",
        "colab": {
          "base_uri": "https://localhost:8080/",
          "height": 140
        },
        "outputId": "496efebf-8662-4017-d112-0e27df804537"
      },
      "cell_type": "code",
      "source": [
        "df_raw.Class.values"
      ],
      "execution_count": 40,
      "outputs": [
        {
          "output_type": "execute_result",
          "data": {
            "text/plain": [
              "array([0, 0, 0, 0, 0, 0, 0, 0, 0, 0, 0, 0, 0, 0, 0, 0, 0, 0, 0, 0, 0, 0,\n",
              "       0, 0, 0, 0, 0, 0, 0, 0, 0, 0, 0, 0, 0, 0, 0, 0, 0, 0, 0, 0, 0, 0,\n",
              "       0, 0, 0, 0, 0, 1, 1, 1, 1, 1, 1, 1, 1, 1, 1, 1, 1, 1, 1, 1, 1, 1,\n",
              "       1, 1, 1, 1, 1, 1, 1, 1, 1, 1, 1, 1, 1, 1, 1, 1, 1, 1, 1, 1, 1, 1,\n",
              "       1, 1, 1, 1, 1, 1, 1, 1, 1, 1, 1, 2, 2, 2, 2, 2, 2, 2, 2, 2, 2, 2,\n",
              "       2, 2, 2, 2, 2, 2, 2, 2, 2, 2, 2, 2, 2, 2, 2, 2, 2, 2, 2, 2, 2, 2,\n",
              "       2, 2, 2, 2, 2, 2, 2, 2, 2, 2, 2, 2, 2, 2, 2, 2, 2])"
            ]
          },
          "metadata": {
            "tags": []
          },
          "execution_count": 40
        }
      ]
    },
    {
      "metadata": {
        "id": "gOU4mpXO7lqf",
        "colab_type": "code",
        "colab": {}
      },
      "cell_type": "code",
      "source": [
        "model = tf.keras.Sequential([\n",
        "    tf.keras.layers.Dense(units=1, input_shape=[4]),\n",
        "    tf.keras.layers.Dense(units=4),\n",
        "    tf.keras.layers.Dense(units=8),\n",
        "    tf.keras.layers.Dense(units=16),\n",
        "    tf.keras.layers.Dense(units=32),\n",
        "    tf.keras.layers.Dense(units=16),\n",
        "    tf.keras.layers.Dense(units=8),\n",
        "    tf.keras.layers.Dense(units=4),\n",
        "    tf.keras.layers.Dense(units=1)\n",
        "])"
      ],
      "execution_count": 0,
      "outputs": []
    },
    {
      "metadata": {
        "id": "oH0AUv_37p87",
        "colab_type": "code",
        "colab": {}
      },
      "cell_type": "code",
      "source": [
        "model.compile(loss='mean_squared_error', optimizer=tf.keras.optimizers.Adam(0.005))\n",
        "\n",
        "# with 0.1 ->  Minimum Loss at iteration:  379 \t With Loss Value: 0.04898338027348454\n",
        "#Minimum Loss at iteration:  379 \t With Loss Value: 0.04898338027348454  0.0469553001074983\n",
        "#0.046140261844500596\n",
        "#Minimum Loss at iteration:  519 \t With Loss Value: 0.046140261844500596\n",
        "#Minimum Loss at iteration:  860 \t With Loss Value: 0.04597363044701567\n",
        "#Minimum Loss at iteration:  653 \t With Loss Value: 0.04509002812856796\n",
        "#Minimum Loss at iteration:  1129 \t With Loss Value: 0.04509102848152186\n",
        "#\n",
        "# Make a logging function"
      ],
      "execution_count": 0,
      "outputs": []
    },
    {
      "metadata": {
        "id": "YemoEQzLFW3Z",
        "colab_type": "code",
        "colab": {}
      },
      "cell_type": "code",
      "source": [
        "history = model.fit(df,df_raw.Class,epochs=400,verbose=False)"
      ],
      "execution_count": 0,
      "outputs": []
    },
    {
      "metadata": {
        "id": "9hIe4Y1xGgqZ",
        "colab_type": "code",
        "outputId": "89c973b6-1346-4f6a-b778-84bdde399b1d",
        "colab": {
          "base_uri": "https://localhost:8080/",
          "height": 301
        }
      },
      "cell_type": "code",
      "source": [
        "import matplotlib.pyplot as plt\n",
        "plt.xlabel('Epoch Number')\n",
        "plt.ylabel(\"Loss Magnitude\")\n",
        "plt.plot(history.history['loss'])\n",
        "#print(\"Epoch info: \",history.epoch,\"\\nValues Info:\",history.history,\"\",)\n"
      ],
      "execution_count": 148,
      "outputs": [
        {
          "output_type": "execute_result",
          "data": {
            "text/plain": [
              "[<matplotlib.lines.Line2D at 0x7f87c229ae48>]"
            ]
          },
          "metadata": {
            "tags": []
          },
          "execution_count": 148
        },
        {
          "output_type": "display_data",
          "data": {
            "image/png": "[encoded data removed]",
            "text/plain": [
              "<Figure size 432x288 with 1 Axes>"
            ]
          },
          "metadata": {
            "tags": []
          }
        }
      ]
    },
    {
      "metadata": {
        "id": "B4uPWxZUuLxo",
        "colab_type": "code",
        "colab": {
          "base_uri": "https://localhost:8080/",
          "height": 7039
        },
        "outputId": "ca31856b-a9b8-481d-c5d1-27ab2ab02b9f"
      },
      "cell_type": "code",
      "source": [
        "i = len(history.epoch)\n",
        "minloss = 1\n",
        "for i in range(1, len(history.epoch)):\n",
        "  lossval = history.history['loss'][i]\n",
        "  if minloss > lossval:\n",
        "    minloss= lossval\n",
        "    minlossindex = i\n",
        "  print(\"Epoch Number :\",history.epoch[i], \"\\tValue :\",lossval)\n",
        "\n"
      ],
      "execution_count": 149,
      "outputs": [
        {
          "output_type": "stream",
          "text": [
            "Epoch Number : 1 \tValue : 0.04733594887008603\n",
            "Epoch Number : 2 \tValue : 0.0497598530562132\n",
            "Epoch Number : 3 \tValue : 0.05070120716254983\n",
            "Epoch Number : 4 \tValue : 0.04912768445609\n",
            "Epoch Number : 5 \tValue : 0.0483984063385717\n",
            "Epoch Number : 6 \tValue : 0.049346068611481046\n",
            "Epoch Number : 7 \tValue : 0.04851492844371988\n",
            "Epoch Number : 8 \tValue : 0.0487822479249647\n",
            "Epoch Number : 9 \tValue : 0.047321051634198065\n",
            "Epoch Number : 10 \tValue : 0.04850255460447113\n",
            "Epoch Number : 11 \tValue : 0.047394412900977484\n",
            "Epoch Number : 12 \tValue : 0.04793209380051434\n",
            "Epoch Number : 13 \tValue : 0.04932262775981986\n",
            "Epoch Number : 14 \tValue : 0.04702182841680994\n",
            "Epoch Number : 15 \tValue : 0.04867026544857345\n",
            "Epoch Number : 16 \tValue : 0.047350735222333226\n",
            "Epoch Number : 17 \tValue : 0.04795040960279887\n",
            "Epoch Number : 18 \tValue : 0.04768553583713986\n",
            "Epoch Number : 19 \tValue : 0.047708897882659966\n",
            "Epoch Number : 20 \tValue : 0.04796052059071176\n",
            "Epoch Number : 21 \tValue : 0.04724152716214225\n",
            "Epoch Number : 22 \tValue : 0.04755423948068747\n",
            "Epoch Number : 23 \tValue : 0.047051890459436696\n",
            "Epoch Number : 24 \tValue : 0.047328202291423045\n",
            "Epoch Number : 25 \tValue : 0.04753840302160922\n",
            "Epoch Number : 26 \tValue : 0.04698124322915237\n",
            "Epoch Number : 27 \tValue : 0.04951017739988813\n",
            "Epoch Number : 28 \tValue : 0.0472078305862894\n",
            "Epoch Number : 29 \tValue : 0.04685390918146844\n",
            "Epoch Number : 30 \tValue : 0.04738084179342993\n",
            "Epoch Number : 31 \tValue : 0.05071806812646405\n",
            "Epoch Number : 32 \tValue : 0.051009749556147815\n",
            "Epoch Number : 33 \tValue : 0.049598417676135195\n",
            "Epoch Number : 34 \tValue : 0.04894789243304489\n",
            "Epoch Number : 35 \tValue : 0.04693878222031881\n",
            "Epoch Number : 36 \tValue : 0.046987732784860084\n",
            "Epoch Number : 37 \tValue : 0.04900205045338445\n",
            "Epoch Number : 38 \tValue : 0.04989428108170529\n",
            "Epoch Number : 39 \tValue : 0.050507139639566406\n",
            "Epoch Number : 40 \tValue : 0.04617973704566092\n",
            "Epoch Number : 41 \tValue : 0.049874331314591756\n",
            "Epoch Number : 42 \tValue : 0.0474025619610044\n",
            "Epoch Number : 43 \tValue : 0.050025850084404015\n",
            "Epoch Number : 44 \tValue : 0.04795453272409887\n",
            "Epoch Number : 45 \tValue : 0.04770292674235049\n",
            "Epoch Number : 46 \tValue : 0.04739579688382629\n",
            "Epoch Number : 47 \tValue : 0.04730094054201305\n",
            "Epoch Number : 48 \tValue : 0.04675169474126509\n",
            "Epoch Number : 49 \tValue : 0.04831536265477638\n",
            "Epoch Number : 50 \tValue : 0.04759498983121559\n",
            "Epoch Number : 51 \tValue : 0.04664541675940456\n",
            "Epoch Number : 52 \tValue : 0.04789462655582684\n",
            "Epoch Number : 53 \tValue : 0.04671211473193745\n",
            "Epoch Number : 54 \tValue : 0.047547160454044404\n",
            "Epoch Number : 55 \tValue : 0.048524996753306994\n",
            "Epoch Number : 56 \tValue : 0.048490599147825435\n",
            "Epoch Number : 57 \tValue : 0.04793017835125027\n",
            "Epoch Number : 58 \tValue : 0.046953056382652895\n",
            "Epoch Number : 59 \tValue : 0.04750904333371444\n",
            "Epoch Number : 60 \tValue : 0.04730758030942622\n",
            "Epoch Number : 61 \tValue : 0.0483465157199226\n",
            "Epoch Number : 62 \tValue : 0.05125582338179518\n",
            "Epoch Number : 63 \tValue : 0.049799693210813026\n",
            "Epoch Number : 64 \tValue : 0.049739662482834505\n",
            "Epoch Number : 65 \tValue : 0.04751034706030916\n",
            "Epoch Number : 66 \tValue : 0.047803403397134486\n",
            "Epoch Number : 67 \tValue : 0.047224335147430435\n",
            "Epoch Number : 68 \tValue : 0.04693016414874352\n",
            "Epoch Number : 69 \tValue : 0.04725157289497004\n",
            "Epoch Number : 70 \tValue : 0.04705742294056304\n",
            "Epoch Number : 71 \tValue : 0.04868648658762842\n",
            "Epoch Number : 72 \tValue : 0.049765887076422675\n",
            "Epoch Number : 73 \tValue : 0.04874142166852151\n",
            "Epoch Number : 74 \tValue : 0.048734537732081126\n",
            "Epoch Number : 75 \tValue : 0.04970588822592825\n",
            "Epoch Number : 76 \tValue : 0.047374445619999164\n",
            "Epoch Number : 77 \tValue : 0.04952167384576477\n",
            "Epoch Number : 78 \tValue : 0.04811755927817134\n",
            "Epoch Number : 79 \tValue : 0.0473088291067405\n",
            "Epoch Number : 80 \tValue : 0.04874596737275188\n",
            "Epoch Number : 81 \tValue : 0.04722065783587078\n",
            "Epoch Number : 82 \tValue : 0.04739634440149237\n",
            "Epoch Number : 83 \tValue : 0.04782861491177706\n",
            "Epoch Number : 84 \tValue : 0.04685268173581802\n",
            "Epoch Number : 85 \tValue : 0.048036308846617706\n",
            "Epoch Number : 86 \tValue : 0.04757843661628314\n",
            "Epoch Number : 87 \tValue : 0.048101059292386845\n",
            "Epoch Number : 88 \tValue : 0.04667252912217339\n",
            "Epoch Number : 89 \tValue : 0.04780685709126844\n",
            "Epoch Number : 90 \tValue : 0.04763059395571683\n",
            "Epoch Number : 91 \tValue : 0.04780398544249118\n",
            "Epoch Number : 92 \tValue : 0.0473472397749456\n",
            "Epoch Number : 93 \tValue : 0.0475957729922445\n",
            "Epoch Number : 94 \tValue : 0.04704787227131376\n",
            "Epoch Number : 95 \tValue : 0.047866696379328735\n",
            "Epoch Number : 96 \tValue : 0.04673376446902352\n",
            "Epoch Number : 97 \tValue : 0.047268940873394075\n",
            "Epoch Number : 98 \tValue : 0.04708858646902462\n",
            "Epoch Number : 99 \tValue : 0.047324579259093176\n",
            "Epoch Number : 100 \tValue : 0.04940845172277233\n",
            "Epoch Number : 101 \tValue : 0.048830519811619046\n",
            "Epoch Number : 102 \tValue : 0.048384719396997615\n",
            "Epoch Number : 103 \tValue : 0.04988467715830611\n",
            "Epoch Number : 104 \tValue : 0.04869630327760773\n",
            "Epoch Number : 105 \tValue : 0.04757639140690733\n",
            "Epoch Number : 106 \tValue : 0.04760172885636355\n",
            "Epoch Number : 107 \tValue : 0.048098627552890134\n",
            "Epoch Number : 108 \tValue : 0.04809053987264633\n",
            "Epoch Number : 109 \tValue : 0.04726314259655524\n",
            "Epoch Number : 110 \tValue : 0.048484510123329674\n",
            "Epoch Number : 111 \tValue : 0.04784141155897371\n",
            "Epoch Number : 112 \tValue : 0.047430502888340276\n",
            "Epoch Number : 113 \tValue : 0.04699483738849627\n",
            "Epoch Number : 114 \tValue : 0.046899445704965785\n",
            "Epoch Number : 115 \tValue : 0.047213888758380944\n",
            "Epoch Number : 116 \tValue : 0.047575867341068764\n",
            "Epoch Number : 117 \tValue : 0.04725221118845996\n",
            "Epoch Number : 118 \tValue : 0.04736792461184047\n",
            "Epoch Number : 119 \tValue : 0.04712722778020289\n",
            "Epoch Number : 120 \tValue : 0.04786562582090397\n",
            "Epoch Number : 121 \tValue : 0.04832488953467184\n",
            "Epoch Number : 122 \tValue : 0.04737347415679653\n",
            "Epoch Number : 123 \tValue : 0.04762125882826396\n",
            "Epoch Number : 124 \tValue : 0.048211035412429964\n",
            "Epoch Number : 125 \tValue : 0.05079872186151927\n",
            "Epoch Number : 126 \tValue : 0.04806606396532699\n",
            "Epoch Number : 127 \tValue : 0.048379069981759025\n",
            "Epoch Number : 128 \tValue : 0.04825853828915814\n",
            "Epoch Number : 129 \tValue : 0.04954816428506934\n",
            "Epoch Number : 130 \tValue : 0.0469347141033051\n",
            "Epoch Number : 131 \tValue : 0.051361674367881464\n",
            "Epoch Number : 132 \tValue : 0.051957803184554084\n",
            "Epoch Number : 133 \tValue : 0.04756104618610952\n",
            "Epoch Number : 134 \tValue : 0.050660777587018556\n",
            "Epoch Number : 135 \tValue : 0.050617384430546086\n",
            "Epoch Number : 136 \tValue : 0.04890406794296015\n",
            "Epoch Number : 137 \tValue : 0.048058701966632936\n",
            "Epoch Number : 138 \tValue : 0.047554916033408785\n",
            "Epoch Number : 139 \tValue : 0.05001972343197605\n",
            "Epoch Number : 140 \tValue : 0.04835391269634234\n",
            "Epoch Number : 141 \tValue : 0.04878201903212791\n",
            "Epoch Number : 142 \tValue : 0.049157439587300254\n",
            "Epoch Number : 143 \tValue : 0.04811884357825222\n",
            "Epoch Number : 144 \tValue : 0.047542354029497046\n",
            "Epoch Number : 145 \tValue : 0.04760559238243423\n",
            "Epoch Number : 146 \tValue : 0.04748707100899027\n",
            "Epoch Number : 147 \tValue : 0.04827275617210657\n",
            "Epoch Number : 148 \tValue : 0.04728326073928967\n",
            "Epoch Number : 149 \tValue : 0.04699236272065432\n",
            "Epoch Number : 150 \tValue : 0.04748684040352002\n",
            "Epoch Number : 151 \tValue : 0.04660502071148597\n",
            "Epoch Number : 152 \tValue : 0.04745198013698495\n",
            "Epoch Number : 153 \tValue : 0.04737326352788298\n",
            "Epoch Number : 154 \tValue : 0.047627225093193504\n",
            "Epoch Number : 155 \tValue : 0.046852836422872225\n",
            "Epoch Number : 156 \tValue : 0.04881528974979516\n",
            "Epoch Number : 157 \tValue : 0.04777004034727212\n",
            "Epoch Number : 158 \tValue : 0.049027262868097166\n",
            "Epoch Number : 159 \tValue : 0.0468114323464016\n",
            "Epoch Number : 160 \tValue : 0.04801876832974837\n",
            "Epoch Number : 161 \tValue : 0.0480041089873986\n",
            "Epoch Number : 162 \tValue : 0.047175085034546434\n",
            "Epoch Number : 163 \tValue : 0.047891574167965245\n",
            "Epoch Number : 164 \tValue : 0.04787067443932463\n",
            "Epoch Number : 165 \tValue : 0.048100302733430925\n",
            "Epoch Number : 166 \tValue : 0.04767226430293697\n",
            "Epoch Number : 167 \tValue : 0.04767931252717972\n",
            "Epoch Number : 168 \tValue : 0.0483468044924256\n",
            "Epoch Number : 169 \tValue : 0.048303916875348\n",
            "Epoch Number : 170 \tValue : 0.04766338213578167\n",
            "Epoch Number : 171 \tValue : 0.04706620349980041\n",
            "Epoch Number : 172 \tValue : 0.04716959315658416\n",
            "Epoch Number : 173 \tValue : 0.049769253663768706\n",
            "Epoch Number : 174 \tValue : 0.04703097452953358\n",
            "Epoch Number : 175 \tValue : 0.04844959152724919\n",
            "Epoch Number : 176 \tValue : 0.047602249246915716\n",
            "Epoch Number : 177 \tValue : 0.0476847095477501\n",
            "Epoch Number : 178 \tValue : 0.04692871169805927\n",
            "Epoch Number : 179 \tValue : 0.04752307582721614\n",
            "Epoch Number : 180 \tValue : 0.04758401601356548\n",
            "Epoch Number : 181 \tValue : 0.04794667582433896\n",
            "Epoch Number : 182 \tValue : 0.04924185701564655\n",
            "Epoch Number : 183 \tValue : 0.04870060796305637\n",
            "Epoch Number : 184 \tValue : 0.05094111303255062\n",
            "Epoch Number : 185 \tValue : 0.047450510722478766\n",
            "Epoch Number : 186 \tValue : 0.049014618082734565\n",
            "Epoch Number : 187 \tValue : 0.04748069419956848\n",
            "Epoch Number : 188 \tValue : 0.04702633859327175\n",
            "Epoch Number : 189 \tValue : 0.0473443177472425\n",
            "Epoch Number : 190 \tValue : 0.04719185284120125\n",
            "Epoch Number : 191 \tValue : 0.047759175150586454\n",
            "Epoch Number : 192 \tValue : 0.05046444866281228\n",
            "Epoch Number : 193 \tValue : 0.05018776175159736\n",
            "Epoch Number : 194 \tValue : 0.047782524570122664\n",
            "Epoch Number : 195 \tValue : 0.04852172067301385\n",
            "Epoch Number : 196 \tValue : 0.051303084864712405\n",
            "Epoch Number : 197 \tValue : 0.0500040795879076\n",
            "Epoch Number : 198 \tValue : 0.05200182751521168\n",
            "Epoch Number : 199 \tValue : 0.051896039371522484\n",
            "Epoch Number : 200 \tValue : 0.04753311083420811\n",
            "Epoch Number : 201 \tValue : 0.0499520867112899\n",
            "Epoch Number : 202 \tValue : 0.0478805468711477\n",
            "Epoch Number : 203 \tValue : 0.04746978709961744\n",
            "Epoch Number : 204 \tValue : 0.047712469736001635\n",
            "Epoch Number : 205 \tValue : 0.04756628896966077\n",
            "Epoch Number : 206 \tValue : 0.047271470445514524\n",
            "Epoch Number : 207 \tValue : 0.04794290804322934\n",
            "Epoch Number : 208 \tValue : 0.047842344756694445\n",
            "Epoch Number : 209 \tValue : 0.049141110489832475\n",
            "Epoch Number : 210 \tValue : 0.0470589904127105\n",
            "Epoch Number : 211 \tValue : 0.04726031557625572\n",
            "Epoch Number : 212 \tValue : 0.04909647703670815\n",
            "Epoch Number : 213 \tValue : 0.04722293778853928\n",
            "Epoch Number : 214 \tValue : 0.0467369762943095\n",
            "Epoch Number : 215 \tValue : 0.04855779843442392\n",
            "Epoch Number : 216 \tValue : 0.04826537832217728\n",
            "Epoch Number : 217 \tValue : 0.04779649305863668\n",
            "Epoch Number : 218 \tValue : 0.04698348195360811\n",
            "Epoch Number : 219 \tValue : 0.047526937228121215\n",
            "Epoch Number : 220 \tValue : 0.04782704176418733\n",
            "Epoch Number : 221 \tValue : 0.04666566928761117\n",
            "Epoch Number : 222 \tValue : 0.04716419758612678\n",
            "Epoch Number : 223 \tValue : 0.04693877658237947\n",
            "Epoch Number : 224 \tValue : 0.047675451701319455\n",
            "Epoch Number : 225 \tValue : 0.04704524450404132\n",
            "Epoch Number : 226 \tValue : 0.046605909980783525\n",
            "Epoch Number : 227 \tValue : 0.04752892695817371\n",
            "Epoch Number : 228 \tValue : 0.04771360057412378\n",
            "Epoch Number : 229 \tValue : 0.0472230334084906\n",
            "Epoch Number : 230 \tValue : 0.047307815227732565\n",
            "Epoch Number : 231 \tValue : 0.0473975213432072\n",
            "Epoch Number : 232 \tValue : 0.04791455655890023\n",
            "Epoch Number : 233 \tValue : 0.04883134437587437\n",
            "Epoch Number : 234 \tValue : 0.04902442372185272\n",
            "Epoch Number : 235 \tValue : 0.0465525890506754\n",
            "Epoch Number : 236 \tValue : 0.04868293828612206\n",
            "Epoch Number : 237 \tValue : 0.046834689808771916\n",
            "Epoch Number : 238 \tValue : 0.04742982006012993\n",
            "Epoch Number : 239 \tValue : 0.0469159975322901\n",
            "Epoch Number : 240 \tValue : 0.04842457420273915\n",
            "Epoch Number : 241 \tValue : 0.047351977269121465\n",
            "Epoch Number : 242 \tValue : 0.047857073429446895\n",
            "Epoch Number : 243 \tValue : 0.0474828405918291\n",
            "Epoch Number : 244 \tValue : 0.04780762017573286\n",
            "Epoch Number : 245 \tValue : 0.0474744824655104\n",
            "Epoch Number : 246 \tValue : 0.046701137576527246\n",
            "Epoch Number : 247 \tValue : 0.0473903111063394\n",
            "Epoch Number : 248 \tValue : 0.046879225979315355\n",
            "Epoch Number : 249 \tValue : 0.047425232652649786\n",
            "Epoch Number : 250 \tValue : 0.04917294832084003\n",
            "Epoch Number : 251 \tValue : 0.047926233968878754\n",
            "Epoch Number : 252 \tValue : 0.04909237571710708\n",
            "Epoch Number : 253 \tValue : 0.04829794671011451\n",
            "Epoch Number : 254 \tValue : 0.04815082952080157\n",
            "Epoch Number : 255 \tValue : 0.04798044289318507\n",
            "Epoch Number : 256 \tValue : 0.04743873424228006\n",
            "Epoch Number : 257 \tValue : 0.048232532887650816\n",
            "Epoch Number : 258 \tValue : 0.047252438462420596\n",
            "Epoch Number : 259 \tValue : 0.04697786156563151\n",
            "Epoch Number : 260 \tValue : 0.04834028775960007\n",
            "Epoch Number : 261 \tValue : 0.04692457898851209\n",
            "Epoch Number : 262 \tValue : 0.047422854742347795\n",
            "Epoch Number : 263 \tValue : 0.04719169697905547\n",
            "Epoch Number : 264 \tValue : 0.047206248437998276\n",
            "Epoch Number : 265 \tValue : 0.046803449024290046\n",
            "Epoch Number : 266 \tValue : 0.047210480792810455\n",
            "Epoch Number : 267 \tValue : 0.04668893125033219\n",
            "Epoch Number : 268 \tValue : 0.047602458750741594\n",
            "Epoch Number : 269 \tValue : 0.0468393922252143\n",
            "Epoch Number : 270 \tValue : 0.0477161468975496\n",
            "Epoch Number : 271 \tValue : 0.0476321716786631\n",
            "Epoch Number : 272 \tValue : 0.052138394232364306\n",
            "Epoch Number : 273 \tValue : 0.04945302854648372\n",
            "Epoch Number : 274 \tValue : 0.046709044730203264\n",
            "Epoch Number : 275 \tValue : 0.050174829268815536\n",
            "Epoch Number : 276 \tValue : 0.047157535441969864\n",
            "Epoch Number : 277 \tValue : 0.04752615099185265\n",
            "Epoch Number : 278 \tValue : 0.04729550981881635\n",
            "Epoch Number : 279 \tValue : 0.047007248555653844\n",
            "Epoch Number : 280 \tValue : 0.0472758960903891\n",
            "Epoch Number : 281 \tValue : 0.04871004982382659\n",
            "Epoch Number : 282 \tValue : 0.04713935747542637\n",
            "Epoch Number : 283 \tValue : 0.04785835107900952\n",
            "Epoch Number : 284 \tValue : 0.04740062871035314\n",
            "Epoch Number : 285 \tValue : 0.04900502158491404\n",
            "Epoch Number : 286 \tValue : 0.0476701882661589\n",
            "Epoch Number : 287 \tValue : 0.04795068842452645\n",
            "Epoch Number : 288 \tValue : 0.04773046046295422\n",
            "Epoch Number : 289 \tValue : 0.04989481272313419\n",
            "Epoch Number : 290 \tValue : 0.047118763795635045\n",
            "Epoch Number : 291 \tValue : 0.04818662376011778\n",
            "Epoch Number : 292 \tValue : 0.0482811915294436\n",
            "Epoch Number : 293 \tValue : 0.04723471913161694\n",
            "Epoch Number : 294 \tValue : 0.04799764895899184\n",
            "Epoch Number : 295 \tValue : 0.047539254887992106\n",
            "Epoch Number : 296 \tValue : 0.047895254454756744\n",
            "Epoch Number : 297 \tValue : 0.04810250122975183\n",
            "Epoch Number : 298 \tValue : 0.04691777383321084\n",
            "Epoch Number : 299 \tValue : 0.04751942266753856\n",
            "Epoch Number : 300 \tValue : 0.04772063239708843\n",
            "Epoch Number : 301 \tValue : 0.04718190004061532\n",
            "Epoch Number : 302 \tValue : 0.047725672977382706\n",
            "Epoch Number : 303 \tValue : 0.04758929573749536\n",
            "Epoch Number : 304 \tValue : 0.049028769610512175\n",
            "Epoch Number : 305 \tValue : 0.04885373879599091\n",
            "Epoch Number : 306 \tValue : 0.048802761948548705\n",
            "Epoch Number : 307 \tValue : 0.047442610581849246\n",
            "Epoch Number : 308 \tValue : 0.04900283123922828\n",
            "Epoch Number : 309 \tValue : 0.047140241219293354\n",
            "Epoch Number : 310 \tValue : 0.048144128598622826\n",
            "Epoch Number : 311 \tValue : 0.04790219397052822\n",
            "Epoch Number : 312 \tValue : 0.04943897592641363\n",
            "Epoch Number : 313 \tValue : 0.049106665880688086\n",
            "Epoch Number : 314 \tValue : 0.04858774169279425\n",
            "Epoch Number : 315 \tValue : 0.048347240076369084\n",
            "Epoch Number : 316 \tValue : 0.04759686367723766\n",
            "Epoch Number : 317 \tValue : 0.049832306227227986\n",
            "Epoch Number : 318 \tValue : 0.04680619856355174\n",
            "Epoch Number : 319 \tValue : 0.04975384028765979\n",
            "Epoch Number : 320 \tValue : 0.04728729025329519\n",
            "Epoch Number : 321 \tValue : 0.04789386089616174\n",
            "Epoch Number : 322 \tValue : 0.0484565172919491\n",
            "Epoch Number : 323 \tValue : 0.046913686839726146\n",
            "Epoch Number : 324 \tValue : 0.04711791452945479\n",
            "Epoch Number : 325 \tValue : 0.04737320502332393\n",
            "Epoch Number : 326 \tValue : 0.04700746977289251\n",
            "Epoch Number : 327 \tValue : 0.04992509190768203\n",
            "Epoch Number : 328 \tValue : 0.0486150328694974\n",
            "Epoch Number : 329 \tValue : 0.048926430273076034\n",
            "Epoch Number : 330 \tValue : 0.04723409458294811\n",
            "Epoch Number : 331 \tValue : 0.047142082962813796\n",
            "Epoch Number : 332 \tValue : 0.04707837607336524\n",
            "Epoch Number : 333 \tValue : 0.04714208413790536\n",
            "Epoch Number : 334 \tValue : 0.047471963794239416\n",
            "Epoch Number : 335 \tValue : 0.04743619013152667\n",
            "Epoch Number : 336 \tValue : 0.04768271954267617\n",
            "Epoch Number : 337 \tValue : 0.04719838737541397\n",
            "Epoch Number : 338 \tValue : 0.04671773471988287\n",
            "Epoch Number : 339 \tValue : 0.04790600509251524\n",
            "Epoch Number : 340 \tValue : 0.047353383778725694\n",
            "Epoch Number : 341 \tValue : 0.04729419781657673\n",
            "Epoch Number : 342 \tValue : 0.04781665270460532\n",
            "Epoch Number : 343 \tValue : 0.04645094150464807\n",
            "Epoch Number : 344 \tValue : 0.04748261139896892\n",
            "Epoch Number : 345 \tValue : 0.047070096078135025\n",
            "Epoch Number : 346 \tValue : 0.04883063692074494\n",
            "Epoch Number : 347 \tValue : 0.04654418492077181\n",
            "Epoch Number : 348 \tValue : 0.04875733720876226\n",
            "Epoch Number : 349 \tValue : 0.04791263348404193\n",
            "Epoch Number : 350 \tValue : 0.04699322016247167\n",
            "Epoch Number : 351 \tValue : 0.049438309099450205\n",
            "Epoch Number : 352 \tValue : 0.047759948810875016\n",
            "Epoch Number : 353 \tValue : 0.049423605753671405\n",
            "Epoch Number : 354 \tValue : 0.047806715355223454\n",
            "Epoch Number : 355 \tValue : 0.04715626614305797\n",
            "Epoch Number : 356 \tValue : 0.04733122615206162\n",
            "Epoch Number : 357 \tValue : 0.0482848763165858\n",
            "Epoch Number : 358 \tValue : 0.04689909947798556\n",
            "Epoch Number : 359 \tValue : 0.04803434399350377\n",
            "Epoch Number : 360 \tValue : 0.04899859403403813\n",
            "Epoch Number : 361 \tValue : 0.04967037625860848\n",
            "Epoch Number : 362 \tValue : 0.047946142357767826\n",
            "Epoch Number : 363 \tValue : 0.04766600414010502\n",
            "Epoch Number : 364 \tValue : 0.04759335857909798\n",
            "Epoch Number : 365 \tValue : 0.047418775174441756\n",
            "Epoch Number : 366 \tValue : 0.04741829611211015\n",
            "Epoch Number : 367 \tValue : 0.047174768259861326\n",
            "Epoch Number : 368 \tValue : 0.04824736954381802\n",
            "Epoch Number : 369 \tValue : 0.04900480756823648\n",
            "Epoch Number : 370 \tValue : 0.049204145751943526\n",
            "Epoch Number : 371 \tValue : 0.05010647679235311\n",
            "Epoch Number : 372 \tValue : 0.04748364282934458\n",
            "Epoch Number : 373 \tValue : 0.048218498318987404\n",
            "Epoch Number : 374 \tValue : 0.0487275855153199\n",
            "Epoch Number : 375 \tValue : 0.047071570343019176\n",
            "Epoch Number : 376 \tValue : 0.04766970050314929\n",
            "Epoch Number : 377 \tValue : 0.04760901784936854\n",
            "Epoch Number : 378 \tValue : 0.04759390939702124\n",
            "Epoch Number : 379 \tValue : 0.0469510873042097\n",
            "Epoch Number : 380 \tValue : 0.04762614633412969\n",
            "Epoch Number : 381 \tValue : 0.04695569908858946\n",
            "Epoch Number : 382 \tValue : 0.04783278218651778\n",
            "Epoch Number : 383 \tValue : 0.048815756036131176\n",
            "Epoch Number : 384 \tValue : 0.04838440959785609\n",
            "Epoch Number : 385 \tValue : 0.04825676495096828\n",
            "Epoch Number : 386 \tValue : 0.047634181660293734\n",
            "Epoch Number : 387 \tValue : 0.04743331473245717\n",
            "Epoch Number : 388 \tValue : 0.04774502439786924\n",
            "Epoch Number : 389 \tValue : 0.04782970814696894\n",
            "Epoch Number : 390 \tValue : 0.048541612923145294\n",
            "Epoch Number : 391 \tValue : 0.04935572771418015\n",
            "Epoch Number : 392 \tValue : 0.049032803149831376\n",
            "Epoch Number : 393 \tValue : 0.04832968943371069\n",
            "Epoch Number : 394 \tValue : 0.04817032724018865\n",
            "Epoch Number : 395 \tValue : 0.04752874074366269\n",
            "Epoch Number : 396 \tValue : 0.046872088573122986\n",
            "Epoch Number : 397 \tValue : 0.04717711759293639\n",
            "Epoch Number : 398 \tValue : 0.04790607297280491\n",
            "Epoch Number : 399 \tValue : 0.04758808421808601\n"
          ],
          "name": "stdout"
        }
      ]
    },
    {
      "metadata": {
        "id": "wvTqalv62JMy",
        "colab_type": "code",
        "colab": {
          "base_uri": "https://localhost:8080/",
          "height": 34
        },
        "outputId": "2f5c7333-fd3d-4bbf-d726-b5a7e13ff021"
      },
      "cell_type": "code",
      "source": [
        "print(\"Minimum Loss at iteration: \",minlossindex,\"\\t With Loss Value:\",minloss)"
      ],
      "execution_count": 150,
      "outputs": [
        {
          "output_type": "stream",
          "text": [
            "Minimum Loss at iteration:  40 \t With Loss Value: 0.04617973704566092\n"
          ],
          "name": "stdout"
        }
      ]
    },
    {
      "metadata": {
        "id": "z5ThVRdYva_z",
        "colab_type": "code",
        "colab": {
          "base_uri": "https://localhost:8080/",
          "height": 34
        },
        "outputId": "f2275d13-bf6e-4f38-f61a-cfdf432f3a86"
      },
      "cell_type": "code",
      "source": [
        "min(history.history['loss'])"
      ],
      "execution_count": 145,
      "outputs": [
        {
          "output_type": "execute_result",
          "data": {
            "text/plain": [
              "0.04613250041468032"
            ]
          },
          "metadata": {
            "tags": []
          },
          "execution_count": 145
        }
      ]
    },
    {
      "metadata": {
        "id": "dIe0Wn2XHiqp",
        "colab_type": "code",
        "outputId": "6e643fe6-c23b-4392-e79b-b796d05c71f4",
        "colab": {
          "base_uri": "https://localhost:8080/",
          "height": 34
        }
      },
      "cell_type": "code",
      "source": [
        "print(model.predict(df.loc[80:80]))"
      ],
      "execution_count": 127,
      "outputs": [
        {
          "output_type": "stream",
          "text": [
            "[[0.9410007]]\n"
          ],
          "name": "stdout"
        }
      ]
    },
    {
      "metadata": {
        "id": "fWINVJo0Q27T",
        "colab_type": "code",
        "outputId": "9f16f124-4ce0-41de-bea6-2f8c4f1c1cc4",
        "colab": {
          "base_uri": "https://localhost:8080/",
          "height": 36
        }
      },
      "cell_type": "code",
      "source": [
        "model.predict(df.loc[80:80]).item(-1)"
      ],
      "execution_count": 0,
      "outputs": [
        {
          "output_type": "execute_result",
          "data": {
            "text/plain": [
              "0.9091454744338989"
            ]
          },
          "metadata": {
            "tags": []
          },
          "execution_count": 167
        }
      ]
    },
    {
      "metadata": {
        "id": "yLtlxv2fJcn9",
        "colab_type": "code",
        "outputId": "90e1bd02-64b4-41db-aa9e-31dc0fe650ea",
        "colab": {
          "base_uri": "https://localhost:8080/",
          "height": 73
        }
      },
      "cell_type": "code",
      "source": [
        "pred_df_array = np.array(['Predicted Output Classes'])\n",
        "print(pred_df_array)\n",
        "\n",
        "pred_df_array_round= np.array(['Predicted Output Classes - Rounded'])\n",
        "print(pred_df_array_round)\n",
        "#pred_df_array_2 = np.array([1])\n",
        "#print(pred_df_array_2)\n",
        "\n",
        "#pred_df_array = np.append(pred_df_array,pred_df_array_2,axis=0)\n",
        "\n",
        "print(pred_df_array.transpose())"
      ],
      "execution_count": 0,
      "outputs": [
        {
          "output_type": "stream",
          "text": [
            "['Predicted Output Classes']\n",
            "['Predicted Output Classes - Rounded']\n",
            "['Predicted Output Classes']\n"
          ],
          "name": "stdout"
        }
      ]
    },
    {
      "metadata": {
        "id": "1oquU-vQOGe8",
        "colab_type": "code",
        "outputId": "ef1f06bf-1ec1-4e3d-ccbb-440cf0c5ae11",
        "colab": {
          "base_uri": "https://localhost:8080/",
          "height": 49
        }
      },
      "cell_type": "code",
      "source": [
        "df_pred = pd.DataFrame(columns=['Predicted', 'Predicted_Rounded'])\n",
        "#df_pred = df_pred.append({'Index':1, 'Predicted':22,'Predicted Rounded':33},ignore_index=True)\n",
        "#df_pred.iloc[[1]]\n",
        "#df_pred.iloc[0] = (1,1,1)\n",
        "df_pred"
      ],
      "execution_count": 0,
      "outputs": [
        {
          "output_type": "execute_result",
          "data": {
            "text/html": [
              "<div>\n",
              "<style scoped>\n",
              "    .dataframe tbody tr th:only-of-type {\n",
              "        vertical-align: middle;\n",
              "    }\n",
              "\n",
              "    .dataframe tbody tr th {\n",
              "        vertical-align: top;\n",
              "    }\n",
              "\n",
              "    .dataframe thead th {\n",
              "        text-align: right;\n",
              "    }\n",
              "</style>\n",
              "<table border=\"1\" class=\"dataframe\">\n",
              "  <thead>\n",
              "    <tr style=\"text-align: right;\">\n",
              "      <th></th>\n",
              "      <th>Predicted</th>\n",
              "      <th>Predicted_Rounded</th>\n",
              "    </tr>\n",
              "  </thead>\n",
              "  <tbody>\n",
              "  </tbody>\n",
              "</table>\n",
              "</div>"
            ],
            "text/plain": [
              "Empty DataFrame\n",
              "Columns: [Predicted, Predicted_Rounded]\n",
              "Index: []"
            ]
          },
          "metadata": {
            "tags": []
          },
          "execution_count": 207
        }
      ]
    },
    {
      "metadata": {
        "id": "T3Og9xcNH2IX",
        "colab_type": "code",
        "colab": {}
      },
      "cell_type": "code",
      "source": [
        "for i in range(0,150):\n",
        "  m = model.predict(df.loc[i:i])\n",
        "  val = m.item(0)\n",
        "  df_pred_2 = pd.DataFrame({'Predicted':val, 'Predicted_Rounded':round(val)},index=[i])\n",
        "  #df_pred = df_pred.append({'Index':i, 'Predicted':val,'Predicted Rounded':1},ignore_index=True)\n",
        "  df_pred = df_pred.append(df_pred_2)\n",
        "  print(i, val)\n",
        "  "
      ],
      "execution_count": 0,
      "outputs": []
    },
    {
      "metadata": {
        "id": "mfy7pe_QI9N-",
        "colab_type": "code",
        "outputId": "56f73839-d626-4a69-ed13-673621c7b4d7",
        "colab": {
          "base_uri": "https://localhost:8080/",
          "height": 206
        }
      },
      "cell_type": "code",
      "source": [
        "len(df_pred)\n",
        "df_pred.head(5)"
      ],
      "execution_count": 0,
      "outputs": [
        {
          "output_type": "execute_result",
          "data": {
            "text/html": [
              "<div>\n",
              "<style scoped>\n",
              "    .dataframe tbody tr th:only-of-type {\n",
              "        vertical-align: middle;\n",
              "    }\n",
              "\n",
              "    .dataframe tbody tr th {\n",
              "        vertical-align: top;\n",
              "    }\n",
              "\n",
              "    .dataframe thead th {\n",
              "        text-align: right;\n",
              "    }\n",
              "</style>\n",
              "<table border=\"1\" class=\"dataframe\">\n",
              "  <thead>\n",
              "    <tr style=\"text-align: right;\">\n",
              "      <th></th>\n",
              "      <th>Predicted</th>\n",
              "      <th>Predicted_Rounded</th>\n",
              "    </tr>\n",
              "  </thead>\n",
              "  <tbody>\n",
              "    <tr>\n",
              "      <th>0</th>\n",
              "      <td>-0.032315</td>\n",
              "      <td>0</td>\n",
              "    </tr>\n",
              "    <tr>\n",
              "      <th>1</th>\n",
              "      <td>-0.035684</td>\n",
              "      <td>0</td>\n",
              "    </tr>\n",
              "    <tr>\n",
              "      <th>2</th>\n",
              "      <td>0.023815</td>\n",
              "      <td>0</td>\n",
              "    </tr>\n",
              "    <tr>\n",
              "      <th>3</th>\n",
              "      <td>-0.058656</td>\n",
              "      <td>0</td>\n",
              "    </tr>\n",
              "    <tr>\n",
              "      <th>4</th>\n",
              "      <td>0.073937</td>\n",
              "      <td>0</td>\n",
              "    </tr>\n",
              "  </tbody>\n",
              "</table>\n",
              "</div>"
            ],
            "text/plain": [
              "   Predicted Predicted_Rounded\n",
              "0  -0.032315                 0\n",
              "1  -0.035684                 0\n",
              "2   0.023815                 0\n",
              "3  -0.058656                 0\n",
              "4   0.073937                 0"
            ]
          },
          "metadata": {
            "tags": []
          },
          "execution_count": 317
        }
      ]
    },
    {
      "metadata": {
        "id": "9KbKjMGpaSPO",
        "colab_type": "code",
        "colab": {}
      },
      "cell_type": "code",
      "source": [
        "#df_raw.head(5)\n",
        "df_raw.Class"
      ],
      "execution_count": 0,
      "outputs": []
    },
    {
      "metadata": {
        "id": "L4a6NNcZQRON",
        "colab_type": "code",
        "outputId": "3a07b35b-5b3a-4b97-a722-8f4e287b75d9",
        "colab": {
          "base_uri": "https://localhost:8080/",
          "height": 36
        }
      },
      "cell_type": "code",
      "source": [
        "eval_df = pd.DataFrame(df_raw.Class)\n",
        "len(eval_df)"
      ],
      "execution_count": 0,
      "outputs": [
        {
          "output_type": "execute_result",
          "data": {
            "text/plain": [
              "149"
            ]
          },
          "metadata": {
            "tags": []
          },
          "execution_count": 327
        }
      ]
    },
    {
      "metadata": {
        "id": "9MigfH93WuWv",
        "colab_type": "code",
        "colab": {}
      },
      "cell_type": "code",
      "source": [
        "eval_df['Predicted'] = df_pred.Predicted\n",
        "eval_df['Predicted_Rounded'] = df_pred.Predicted_Rounded"
      ],
      "execution_count": 0,
      "outputs": []
    },
    {
      "metadata": {
        "id": "ixSlqll1ZVqQ",
        "colab_type": "code",
        "outputId": "df43cd98-38a7-4b65-a3a5-ac645c991a88",
        "colab": {
          "base_uri": "https://localhost:8080/",
          "height": 206
        }
      },
      "cell_type": "code",
      "source": [
        "eval_df.head(5)"
      ],
      "execution_count": 0,
      "outputs": [
        {
          "output_type": "execute_result",
          "data": {
            "text/html": [
              "<div>\n",
              "<style scoped>\n",
              "    .dataframe tbody tr th:only-of-type {\n",
              "        vertical-align: middle;\n",
              "    }\n",
              "\n",
              "    .dataframe tbody tr th {\n",
              "        vertical-align: top;\n",
              "    }\n",
              "\n",
              "    .dataframe thead th {\n",
              "        text-align: right;\n",
              "    }\n",
              "</style>\n",
              "<table border=\"1\" class=\"dataframe\">\n",
              "  <thead>\n",
              "    <tr style=\"text-align: right;\">\n",
              "      <th></th>\n",
              "      <th>Class</th>\n",
              "      <th>Predicted</th>\n",
              "      <th>Predicted_Rounded</th>\n",
              "    </tr>\n",
              "  </thead>\n",
              "  <tbody>\n",
              "    <tr>\n",
              "      <th>0</th>\n",
              "      <td>0</td>\n",
              "      <td>-0.032315</td>\n",
              "      <td>0</td>\n",
              "    </tr>\n",
              "    <tr>\n",
              "      <th>1</th>\n",
              "      <td>0</td>\n",
              "      <td>-0.035684</td>\n",
              "      <td>0</td>\n",
              "    </tr>\n",
              "    <tr>\n",
              "      <th>2</th>\n",
              "      <td>0</td>\n",
              "      <td>0.023815</td>\n",
              "      <td>0</td>\n",
              "    </tr>\n",
              "    <tr>\n",
              "      <th>3</th>\n",
              "      <td>0</td>\n",
              "      <td>-0.058656</td>\n",
              "      <td>0</td>\n",
              "    </tr>\n",
              "    <tr>\n",
              "      <th>4</th>\n",
              "      <td>0</td>\n",
              "      <td>0.073937</td>\n",
              "      <td>0</td>\n",
              "    </tr>\n",
              "  </tbody>\n",
              "</table>\n",
              "</div>"
            ],
            "text/plain": [
              "   Class  Predicted Predicted_Rounded\n",
              "0      0  -0.032315                 0\n",
              "1      0  -0.035684                 0\n",
              "2      0   0.023815                 0\n",
              "3      0  -0.058656                 0\n",
              "4      0   0.073937                 0"
            ]
          },
          "metadata": {
            "tags": []
          },
          "execution_count": 329
        }
      ]
    },
    {
      "metadata": {
        "id": "iilcRCSaYpZ3",
        "colab_type": "code",
        "outputId": "40e3bc5f-a50f-412a-b520-8786203c30eb",
        "colab": {
          "base_uri": "https://localhost:8080/",
          "height": 36
        }
      },
      "cell_type": "code",
      "source": [
        "eval_df['Predicted'][0]"
      ],
      "execution_count": 0,
      "outputs": [
        {
          "output_type": "execute_result",
          "data": {
            "text/plain": [
              "-0.03231549263000488"
            ]
          },
          "metadata": {
            "tags": []
          },
          "execution_count": 330
        }
      ]
    },
    {
      "metadata": {
        "id": "UxJ5f4NyfnEm",
        "colab_type": "code",
        "colab": {}
      },
      "cell_type": "code",
      "source": [
        "eval_df['SQE_Class_Predicted_Rounded'] = (eval_df.Predicted_Rounded - eval_df.Class)**2\n"
      ],
      "execution_count": 0,
      "outputs": []
    },
    {
      "metadata": {
        "id": "IHIeNWo0gsyy",
        "colab_type": "code",
        "colab": {}
      },
      "cell_type": "code",
      "source": [
        "eval_df['SQE_Class_Predicted'] = (eval_df.Predicted - eval_df.Class)**2\n"
      ],
      "execution_count": 0,
      "outputs": []
    },
    {
      "metadata": {
        "id": "h006QSWsgbl5",
        "colab_type": "code",
        "outputId": "0d70d634-45e5-4146-8bb3-c9f5013e643d",
        "colab": {
          "base_uri": "https://localhost:8080/",
          "height": 174
        }
      },
      "cell_type": "code",
      "source": [
        "eval_df.head(4)"
      ],
      "execution_count": 0,
      "outputs": [
        {
          "output_type": "execute_result",
          "data": {
            "text/html": [
              "<div>\n",
              "<style scoped>\n",
              "    .dataframe tbody tr th:only-of-type {\n",
              "        vertical-align: middle;\n",
              "    }\n",
              "\n",
              "    .dataframe tbody tr th {\n",
              "        vertical-align: top;\n",
              "    }\n",
              "\n",
              "    .dataframe thead th {\n",
              "        text-align: right;\n",
              "    }\n",
              "</style>\n",
              "<table border=\"1\" class=\"dataframe\">\n",
              "  <thead>\n",
              "    <tr style=\"text-align: right;\">\n",
              "      <th></th>\n",
              "      <th>Class</th>\n",
              "      <th>Predicted</th>\n",
              "      <th>Predicted_Rounded</th>\n",
              "      <th>SQE_Class_Predicted_Rounded</th>\n",
              "      <th>SQE_Class_Predicted</th>\n",
              "    </tr>\n",
              "  </thead>\n",
              "  <tbody>\n",
              "    <tr>\n",
              "      <th>0</th>\n",
              "      <td>0</td>\n",
              "      <td>-0.032315</td>\n",
              "      <td>0</td>\n",
              "      <td>0</td>\n",
              "      <td>0.001044</td>\n",
              "    </tr>\n",
              "    <tr>\n",
              "      <th>1</th>\n",
              "      <td>0</td>\n",
              "      <td>-0.035684</td>\n",
              "      <td>0</td>\n",
              "      <td>0</td>\n",
              "      <td>0.001273</td>\n",
              "    </tr>\n",
              "    <tr>\n",
              "      <th>2</th>\n",
              "      <td>0</td>\n",
              "      <td>0.023815</td>\n",
              "      <td>0</td>\n",
              "      <td>0</td>\n",
              "      <td>0.000567</td>\n",
              "    </tr>\n",
              "    <tr>\n",
              "      <th>3</th>\n",
              "      <td>0</td>\n",
              "      <td>-0.058656</td>\n",
              "      <td>0</td>\n",
              "      <td>0</td>\n",
              "      <td>0.003441</td>\n",
              "    </tr>\n",
              "  </tbody>\n",
              "</table>\n",
              "</div>"
            ],
            "text/plain": [
              "   Class  Predicted Predicted_Rounded SQE_Class_Predicted_Rounded  \\\n",
              "0      0  -0.032315                 0                           0   \n",
              "1      0  -0.035684                 0                           0   \n",
              "2      0   0.023815                 0                           0   \n",
              "3      0  -0.058656                 0                           0   \n",
              "\n",
              "   SQE_Class_Predicted  \n",
              "0             0.001044  \n",
              "1             0.001273  \n",
              "2             0.000567  \n",
              "3             0.003441  "
            ]
          },
          "metadata": {
            "tags": []
          },
          "execution_count": 334
        }
      ]
    },
    {
      "metadata": {
        "id": "bTCnxYicbVtk",
        "colab_type": "code",
        "colab": {}
      },
      "cell_type": "code",
      "source": [
        "sum_p=0\n",
        "sum_pr=0\n",
        "for i in range(0,149):\n",
        "  sum_p = sum_p + eval_df['SQE_Class_Predicted'][i]\n",
        "  sum_pr = sum_pr + eval_df['SQE_Class_Predicted_Rounded'][i]"
      ],
      "execution_count": 0,
      "outputs": []
    },
    {
      "metadata": {
        "id": "b0qPepQucWwr",
        "colab_type": "code",
        "outputId": "bc48990a-e4b6-4c50-9553-06457f5279d4",
        "colab": {
          "base_uri": "https://localhost:8080/",
          "height": 36
        }
      },
      "cell_type": "code",
      "source": [
        "print(sum_p,sum_pr)\n",
        "len(eval_df)\n",
        "mean_p = sum_p / len(eval_df)\n",
        "mean_pr = sum_pr/ len(eval_df)\n"
      ],
      "execution_count": 0,
      "outputs": [
        {
          "output_type": "stream",
          "text": [
            "7.056670101323099 4\n"
          ],
          "name": "stdout"
        }
      ]
    },
    {
      "metadata": {
        "id": "nKgV8IL7hPqJ",
        "colab_type": "code",
        "outputId": "505e83f4-39ea-4330-c56f-1fcdb05fb6a2",
        "colab": {
          "base_uri": "https://localhost:8080/",
          "height": 36
        }
      },
      "cell_type": "code",
      "source": [
        "print(mean_p,mean_pr)"
      ],
      "execution_count": 0,
      "outputs": [
        {
          "output_type": "stream",
          "text": [
            "0.04736020202230268 0.026845637583892617\n"
          ],
          "name": "stdout"
        }
      ]
    },
    {
      "metadata": {
        "id": "_f-l7UJy1oaY",
        "colab_type": "code",
        "outputId": "95e9b4b7-9472-4d7a-9eda-616d77d83f7c",
        "colab": {
          "base_uri": "https://localhost:8080/",
          "height": 36
        }
      },
      "cell_type": "code",
      "source": [
        "rmse_p = math.sqrt(mean_p)\n",
        "rmse_pr = math.sqrt(mean_pr)\n",
        "\n",
        "print(rmse_p, rmse_pr)"
      ],
      "execution_count": 0,
      "outputs": [
        {
          "output_type": "stream",
          "text": [
            "0.21762399229474372 0.16384638410380808\n"
          ],
          "name": "stdout"
        }
      ]
    },
    {
      "metadata": {
        "id": "pWlZBldo1_zX",
        "colab_type": "code",
        "outputId": "ab252102-713c-4f04-ebad-124aadea12e6",
        "colab": {
          "base_uri": "https://localhost:8080/",
          "height": 110
        }
      },
      "cell_type": "code",
      "source": [
        "## CHECK CASES where predicted != Desired\n",
        "cnt = 0\n",
        "for i in range(0,149):\n",
        "  if eval_df['Predicted_Rounded'][i] != eval_df['Class'][i]:\n",
        "    cnt+=1\n",
        "    print(i,\"Desired Value\",eval_df['Class'][i],\"Predicted\",eval_df['Predicted_Rounded'][i] )\n",
        "  else:\n",
        "    continue\n",
        "\n",
        "print(\"Total Fail = {}\".format(cnt))"
      ],
      "execution_count": 0,
      "outputs": [
        {
          "output_type": "stream",
          "text": [
            "69 Desired Value 1 Predicted 2\n",
            "82 Desired Value 1 Predicted 2\n",
            "118 Desired Value 2 Predicted 1\n",
            "132 Desired Value 2 Predicted 1\n",
            "Total Fail = 4\n"
          ],
          "name": "stdout"
        }
      ]
    },
    {
      "metadata": {
        "id": "LGZ1KxPs2m6Y",
        "colab_type": "code",
        "outputId": "9287774b-8f65-457b-8843-e0f1c6c0c88c",
        "colab": {
          "base_uri": "https://localhost:8080/",
          "height": 36
        }
      },
      "cell_type": "code",
      "source": [
        "print(cnt)"
      ],
      "execution_count": 0,
      "outputs": [
        {
          "output_type": "stream",
          "text": [
            "4\n"
          ],
          "name": "stdout"
        }
      ]
    },
    {
      "metadata": {
        "id": "ZQnNMUSj2rtC",
        "colab_type": "code",
        "outputId": "3d839853-3cdd-4330-ec04-33227995210a",
        "colab": {
          "base_uri": "https://localhost:8080/",
          "height": 36
        }
      },
      "cell_type": "code",
      "source": [
        "total_fl = 4/149\n",
        "print(\"Accuracy is \",100*(1 - total_fl),\"%\")"
      ],
      "execution_count": 0,
      "outputs": [
        {
          "output_type": "stream",
          "text": [
            "Accuracy is  97.31543624161074 %\n"
          ],
          "name": "stdout"
        }
      ]
    },
    {
      "metadata": {
        "id": "QyWDGaVy3ufc",
        "colab_type": "code",
        "colab": {}
      },
      "cell_type": "code",
      "source": [
        ""
      ],
      "execution_count": 0,
      "outputs": []
    }
  ]
}