{
  "nbformat": 4,
  "nbformat_minor": 0,
  "metadata": {
    "colab": {
      "name": "Keras - IRIS.ipynb",
      "version": "0.3.2",
      "provenance": [],
      "include_colab_link": true
    },
    "kernelspec": {
      "name": "python3",
      "display_name": "Python 3"
    },
    "accelerator": "GPU"
  },
  "cells": [
    {
      "cell_type": "markdown",
      "metadata": {
        "id": "view-in-github",
        "colab_type": "text"
      },
      "source": [
        "<a href=\"https://colab.research.google.com/github/Aashay7/tf_Play/blob/master/ML_Google_Keras_IRIS.ipynb\" target=\"_parent\"><img src=\"https://colab.research.google.com/assets/colab-badge.svg\" alt=\"Open In Colab\"/></a>"
      ]
    },
    {
      "metadata": {
        "id": "Sx-cQxbo56Oz",
        "colab_type": "code",
        "outputId": "3d820fe5-e846-4609-c465-0e4832151665",
        "colab": {
          "base_uri": "https://localhost:8080/",
          "height": 34
        }
      },
      "cell_type": "code",
      "source": [
        "import numpy as np\n",
        "import keras\n",
        "import tensorflow as tf\n",
        "import pandas as pd\n",
        "from sklearn.preprocessing import LabelEncoder\n",
        "import math\n",
        "\n",
        "from google.colab import drive"
      ],
      "execution_count": 1,
      "outputs": [
        {
          "output_type": "stream",
          "text": [
            "Using TensorFlow backend.\n"
          ],
          "name": "stderr"
        }
      ]
    },
    {
      "metadata": {
        "id": "wDgHuUJ-6R3X",
        "colab_type": "code",
        "outputId": "e66ef344-f19d-4bc9-e9e0-ca126db83255",
        "colab": {
          "base_uri": "https://localhost:8080/",
          "height": 160
        }
      },
      "cell_type": "code",
      "source": [
        "drive.mount(\"/content/drive\")\n",
        "print(tf.__version__)\n",
        "%ls"
      ],
      "execution_count": 2,
      "outputs": [
        {
          "output_type": "stream",
          "text": [
            "Go to this URL in a browser: https://accounts.google.com/o/oauth2/auth?client_id=947318989803-6bn6qk8qdgf4n4g3pfee6491hc0brc4i.apps.googleusercontent.com&redirect_uri=urn%3Aietf%3Awg%3Aoauth%3A2.0%3Aoob&scope=email%20https%3A%2F%2Fwww.googleapis.com%2Fauth%2Fdocs.test%20https%3A%2F%2Fwww.googleapis.com%2Fauth%2Fdrive%20https%3A%2F%2Fwww.googleapis.com%2Fauth%2Fdrive.photos.readonly%20https%3A%2F%2Fwww.googleapis.com%2Fauth%2Fpeopleapi.readonly&response_type=code\n",
            "\n",
            "Enter your authorization code:\n",
            "··········\n",
            "Mounted at /content/drive\n",
            "1.13.1\n",
            "\u001b[0m\u001b[01;34mdrive\u001b[0m/  \u001b[01;34msample_data\u001b[0m/\n"
          ],
          "name": "stdout"
        }
      ]
    },
    {
      "metadata": {
        "id": "SOwGfO7O-KRr",
        "colab_type": "code",
        "colab": {}
      },
      "cell_type": "code",
      "source": [
        "%cd drive/My\\ Drive\n",
        "!ls"
      ],
      "execution_count": 0,
      "outputs": []
    },
    {
      "metadata": {
        "id": "WvlyMJG6_113",
        "colab_type": "code",
        "outputId": "ce11ebc4-03e3-499a-a5cf-7d0d207abae3",
        "colab": {
          "base_uri": "https://localhost:8080/",
          "height": 52
        }
      },
      "cell_type": "code",
      "source": [
        "%cd Deep\\ Learning\\ -\\ Google\n",
        "%cd data"
      ],
      "execution_count": 4,
      "outputs": [
        {
          "output_type": "stream",
          "text": [
            "/content/drive/My Drive/Deep Learning - Google\n",
            "/content/drive/My Drive/Deep Learning - Google/data\n"
          ],
          "name": "stdout"
        }
      ]
    },
    {
      "metadata": {
        "id": "w6seVyeI6fHQ",
        "colab_type": "code",
        "outputId": "956d5d36-7fad-44f1-cc1b-50e3e11c037c",
        "colab": {
          "base_uri": "https://localhost:8080/",
          "height": 34
        }
      },
      "cell_type": "code",
      "source": [
        "!ls"
      ],
      "execution_count": 6,
      "outputs": [
        {
          "output_type": "stream",
          "text": [
            "iris.data\n"
          ],
          "name": "stdout"
        }
      ]
    },
    {
      "metadata": {
        "id": "VHZ24BJJ8Jyc",
        "colab_type": "code",
        "colab": {}
      },
      "cell_type": "code",
      "source": [
        "df_raw = pd.read_csv('iris.data')"
      ],
      "execution_count": 0,
      "outputs": []
    },
    {
      "metadata": {
        "id": "Lzlbn-BeAlVB",
        "colab_type": "code",
        "outputId": "00a517dd-d807-4660-fcca-26595909a90c",
        "colab": {
          "base_uri": "https://localhost:8080/",
          "height": 34
        }
      },
      "cell_type": "code",
      "source": [
        "df_raw.columns"
      ],
      "execution_count": 8,
      "outputs": [
        {
          "output_type": "execute_result",
          "data": {
            "text/plain": [
              "Index(['5.1', '3.5', '1.4', '0.2', 'Iris-setosa'], dtype='object')"
            ]
          },
          "metadata": {
            "tags": []
          },
          "execution_count": 8
        }
      ]
    },
    {
      "metadata": {
        "id": "BVwFtH91EWZN",
        "colab_type": "code",
        "colab": {}
      },
      "cell_type": "code",
      "source": [
        ""
      ],
      "execution_count": 0,
      "outputs": []
    },
    {
      "metadata": {
        "id": "2sINKof7CPU9",
        "colab_type": "code",
        "colab": {}
      },
      "cell_type": "code",
      "source": [
        "df_raw.columns= [\"Sepal length\",\"Sepal height\",\"Petal length\",\"Petal width\",\"Class\"]\n",
        "#sepal length in cm2. sepal width in cm3. petal length in cm4. petal width in cm "
      ],
      "execution_count": 0,
      "outputs": []
    },
    {
      "metadata": {
        "id": "MNRi1Oyu6qti",
        "colab_type": "code",
        "outputId": "47df16a0-4421-4fa0-c7e3-cbcb25257ebb",
        "colab": {
          "base_uri": "https://localhost:8080/",
          "height": 34
        }
      },
      "cell_type": "code",
      "source": [
        "len(df_raw.Class)"
      ],
      "execution_count": 10,
      "outputs": [
        {
          "output_type": "execute_result",
          "data": {
            "text/plain": [
              "149"
            ]
          },
          "metadata": {
            "tags": []
          },
          "execution_count": 10
        }
      ]
    },
    {
      "metadata": {
        "id": "zOiPx6qPFyIg",
        "colab_type": "code",
        "colab": {}
      },
      "cell_type": "code",
      "source": [
        "df = df_raw.drop(\"Class\",axis=1)"
      ],
      "execution_count": 0,
      "outputs": []
    },
    {
      "metadata": {
        "id": "zzO4QfCDGR10",
        "colab_type": "code",
        "outputId": "1e275bd8-c911-45a8-bba8-cc58f0addfa6",
        "colab": {
          "base_uri": "https://localhost:8080/",
          "height": 203
        }
      },
      "cell_type": "code",
      "source": [
        "df.head(5)"
      ],
      "execution_count": 12,
      "outputs": [
        {
          "output_type": "execute_result",
          "data": {
            "text/html": [
              "<div>\n",
              "<style scoped>\n",
              "    .dataframe tbody tr th:only-of-type {\n",
              "        vertical-align: middle;\n",
              "    }\n",
              "\n",
              "    .dataframe tbody tr th {\n",
              "        vertical-align: top;\n",
              "    }\n",
              "\n",
              "    .dataframe thead th {\n",
              "        text-align: right;\n",
              "    }\n",
              "</style>\n",
              "<table border=\"1\" class=\"dataframe\">\n",
              "  <thead>\n",
              "    <tr style=\"text-align: right;\">\n",
              "      <th></th>\n",
              "      <th>Sepal length</th>\n",
              "      <th>Sepal height</th>\n",
              "      <th>Petal length</th>\n",
              "      <th>Petal width</th>\n",
              "    </tr>\n",
              "  </thead>\n",
              "  <tbody>\n",
              "    <tr>\n",
              "      <th>0</th>\n",
              "      <td>4.9</td>\n",
              "      <td>3.0</td>\n",
              "      <td>1.4</td>\n",
              "      <td>0.2</td>\n",
              "    </tr>\n",
              "    <tr>\n",
              "      <th>1</th>\n",
              "      <td>4.7</td>\n",
              "      <td>3.2</td>\n",
              "      <td>1.3</td>\n",
              "      <td>0.2</td>\n",
              "    </tr>\n",
              "    <tr>\n",
              "      <th>2</th>\n",
              "      <td>4.6</td>\n",
              "      <td>3.1</td>\n",
              "      <td>1.5</td>\n",
              "      <td>0.2</td>\n",
              "    </tr>\n",
              "    <tr>\n",
              "      <th>3</th>\n",
              "      <td>5.0</td>\n",
              "      <td>3.6</td>\n",
              "      <td>1.4</td>\n",
              "      <td>0.2</td>\n",
              "    </tr>\n",
              "    <tr>\n",
              "      <th>4</th>\n",
              "      <td>5.4</td>\n",
              "      <td>3.9</td>\n",
              "      <td>1.7</td>\n",
              "      <td>0.4</td>\n",
              "    </tr>\n",
              "  </tbody>\n",
              "</table>\n",
              "</div>"
            ],
            "text/plain": [
              "   Sepal length  Sepal height  Petal length  Petal width\n",
              "0           4.9           3.0           1.4          0.2\n",
              "1           4.7           3.2           1.3          0.2\n",
              "2           4.6           3.1           1.5          0.2\n",
              "3           5.0           3.6           1.4          0.2\n",
              "4           5.4           3.9           1.7          0.4"
            ]
          },
          "metadata": {
            "tags": []
          },
          "execution_count": 12
        }
      ]
    },
    {
      "metadata": {
        "id": "QXaESQsRHBV6",
        "colab_type": "code",
        "outputId": "c02592c5-db19-4cb7-9f8e-ec221c5de354",
        "colab": {
          "base_uri": "https://localhost:8080/",
          "height": 79
        }
      },
      "cell_type": "code",
      "source": [
        "le = LabelEncoder()\n",
        "df_raw.Class = le.fit_transform(df_raw.Class)\n",
        "df_raw.loc[0:0]"
      ],
      "execution_count": 13,
      "outputs": [
        {
          "output_type": "execute_result",
          "data": {
            "text/html": [
              "<div>\n",
              "<style scoped>\n",
              "    .dataframe tbody tr th:only-of-type {\n",
              "        vertical-align: middle;\n",
              "    }\n",
              "\n",
              "    .dataframe tbody tr th {\n",
              "        vertical-align: top;\n",
              "    }\n",
              "\n",
              "    .dataframe thead th {\n",
              "        text-align: right;\n",
              "    }\n",
              "</style>\n",
              "<table border=\"1\" class=\"dataframe\">\n",
              "  <thead>\n",
              "    <tr style=\"text-align: right;\">\n",
              "      <th></th>\n",
              "      <th>Sepal length</th>\n",
              "      <th>Sepal height</th>\n",
              "      <th>Petal length</th>\n",
              "      <th>Petal width</th>\n",
              "      <th>Class</th>\n",
              "    </tr>\n",
              "  </thead>\n",
              "  <tbody>\n",
              "    <tr>\n",
              "      <th>0</th>\n",
              "      <td>4.9</td>\n",
              "      <td>3.0</td>\n",
              "      <td>1.4</td>\n",
              "      <td>0.2</td>\n",
              "      <td>0</td>\n",
              "    </tr>\n",
              "  </tbody>\n",
              "</table>\n",
              "</div>"
            ],
            "text/plain": [
              "   Sepal length  Sepal height  Petal length  Petal width  Class\n",
              "0           4.9           3.0           1.4          0.2      0"
            ]
          },
          "metadata": {
            "tags": []
          },
          "execution_count": 13
        }
      ]
    },
    {
      "metadata": {
        "id": "TuXlIlSnr2gH",
        "colab_type": "code",
        "outputId": "3dad8997-dfd8-4231-db51-9bcee8f4acac",
        "colab": {
          "base_uri": "https://localhost:8080/",
          "height": 140
        }
      },
      "cell_type": "code",
      "source": [
        "df_raw.Class.values"
      ],
      "execution_count": 14,
      "outputs": [
        {
          "output_type": "execute_result",
          "data": {
            "text/plain": [
              "array([0, 0, 0, 0, 0, 0, 0, 0, 0, 0, 0, 0, 0, 0, 0, 0, 0, 0, 0, 0, 0, 0,\n",
              "       0, 0, 0, 0, 0, 0, 0, 0, 0, 0, 0, 0, 0, 0, 0, 0, 0, 0, 0, 0, 0, 0,\n",
              "       0, 0, 0, 0, 0, 1, 1, 1, 1, 1, 1, 1, 1, 1, 1, 1, 1, 1, 1, 1, 1, 1,\n",
              "       1, 1, 1, 1, 1, 1, 1, 1, 1, 1, 1, 1, 1, 1, 1, 1, 1, 1, 1, 1, 1, 1,\n",
              "       1, 1, 1, 1, 1, 1, 1, 1, 1, 1, 1, 2, 2, 2, 2, 2, 2, 2, 2, 2, 2, 2,\n",
              "       2, 2, 2, 2, 2, 2, 2, 2, 2, 2, 2, 2, 2, 2, 2, 2, 2, 2, 2, 2, 2, 2,\n",
              "       2, 2, 2, 2, 2, 2, 2, 2, 2, 2, 2, 2, 2, 2, 2, 2, 2])"
            ]
          },
          "metadata": {
            "tags": []
          },
          "execution_count": 14
        }
      ]
    },
    {
      "metadata": {
        "id": "gOU4mpXO7lqf",
        "colab_type": "code",
        "colab": {
          "base_uri": "https://localhost:8080/",
          "height": 90
        },
        "outputId": "382aff6e-bc38-409a-92eb-eab54a7dc813"
      },
      "cell_type": "code",
      "source": [
        "model = tf.keras.Sequential([\n",
        "    tf.keras.layers.Dense(units=1, input_shape=[4]),\n",
        "    tf.keras.layers.Dense(units=4),\n",
        "    tf.keras.layers.Dense(units=8),\n",
        "    tf.keras.layers.Dense(units=16),\n",
        "    tf.keras.layers.Dense(units=32),\n",
        "    tf.keras.layers.Dense(units=16),\n",
        "    tf.keras.layers.Dense(units=8),\n",
        "    tf.keras.layers.Dense(units=4),\n",
        "    tf.keras.layers.Dense(units=1)\n",
        "])"
      ],
      "execution_count": 15,
      "outputs": [
        {
          "output_type": "stream",
          "text": [
            "WARNING:tensorflow:From /usr/local/lib/python3.6/dist-packages/tensorflow/python/ops/resource_variable_ops.py:435: colocate_with (from tensorflow.python.framework.ops) is deprecated and will be removed in a future version.\n",
            "Instructions for updating:\n",
            "Colocations handled automatically by placer.\n"
          ],
          "name": "stdout"
        }
      ]
    },
    {
      "metadata": {
        "id": "oH0AUv_37p87",
        "colab_type": "code",
        "colab": {
          "base_uri": "https://localhost:8080/",
          "height": 90
        },
        "outputId": "deec84a7-9857-4c67-f86d-3fade8bf9748"
      },
      "cell_type": "code",
      "source": [
        "model.compile(loss='mean_squared_error', optimizer=tf.keras.optimizers.Adam(0.005))\n",
        "\n",
        "# with 0.1 ->  Minimum Loss at iteration:  379 \t With Loss Value: 0.04898338027348454\n",
        "#Minimum Loss at iteration:  379 \t With Loss Value: 0.04898338027348454  0.0469553001074983\n",
        "#0.046140261844500596\n",
        "#Minimum Loss at iteration:  519 \t With Loss Value: 0.046140261844500596\n",
        "#Minimum Loss at iteration:  860 \t With Loss Value: 0.04597363044701567\n",
        "#Minimum Loss at iteration:  653 \t With Loss Value: 0.04509002812856796\n",
        "#Minimum Loss at iteration:  1129 \t With Loss Value: 0.04509102848152186\n",
        "#\n",
        "# Make a logging function"
      ],
      "execution_count": 16,
      "outputs": [
        {
          "output_type": "stream",
          "text": [
            "WARNING:tensorflow:From /usr/local/lib/python3.6/dist-packages/tensorflow/python/keras/utils/losses_utils.py:170: to_float (from tensorflow.python.ops.math_ops) is deprecated and will be removed in a future version.\n",
            "Instructions for updating:\n",
            "Use tf.cast instead.\n"
          ],
          "name": "stdout"
        }
      ]
    },
    {
      "metadata": {
        "id": "YemoEQzLFW3Z",
        "colab_type": "code",
        "colab": {
          "base_uri": "https://localhost:8080/",
          "height": 90
        },
        "outputId": "f6e0bed8-e332-489c-d562-26f3cff8848d"
      },
      "cell_type": "code",
      "source": [
        "history = model.fit(df,df_raw.Class,epochs=400,verbose=False)"
      ],
      "execution_count": 17,
      "outputs": [
        {
          "output_type": "stream",
          "text": [
            "WARNING:tensorflow:From /usr/local/lib/python3.6/dist-packages/tensorflow/python/ops/math_ops.py:3066: to_int32 (from tensorflow.python.ops.math_ops) is deprecated and will be removed in a future version.\n",
            "Instructions for updating:\n",
            "Use tf.cast instead.\n"
          ],
          "name": "stdout"
        }
      ]
    },
    {
      "metadata": {
        "id": "9hIe4Y1xGgqZ",
        "colab_type": "code",
        "outputId": "877e6d52-0966-4e91-ed89-ad4f7498c94d",
        "colab": {
          "base_uri": "https://localhost:8080/",
          "height": 301
        }
      },
      "cell_type": "code",
      "source": [
        "import matplotlib.pyplot as plt\n",
        "plt.xlabel('Epoch Number')\n",
        "plt.ylabel(\"Loss Magnitude\")\n",
        "plt.plot(history.history['loss'])\n",
        "#print(\"Epoch info: \",history.epoch,\"\\nValues Info:\",history.history,\"\",)\n"
      ],
      "execution_count": 18,
      "outputs": [
        {
          "output_type": "execute_result",
          "data": {
            "text/plain": [
              "[<matplotlib.lines.Line2D at 0x7fa738366828>]"
            ]
          },
          "metadata": {
            "tags": []
          },
          "execution_count": 18
        },
        {
          "output_type": "display_data",
          "data": {
            "image/png": "[encoded data removed]",
            "text/plain": [
              "<Figure size 432x288 with 1 Axes>"
            ]
          },
          "metadata": {
            "tags": []
          }
        }
      ]
    },
    {
      "metadata": {
        "id": "B4uPWxZUuLxo",
        "colab_type": "code",
        "outputId": "af4e4fe5-6b0b-4b09-c90c-2313907f7ef7",
        "colab": {
          "base_uri": "https://localhost:8080/",
          "height": 7039
        }
      },
      "cell_type": "code",
      "source": [
        "i = len(history.epoch)\n",
        "minloss = 1\n",
        "for i in range(1, len(history.epoch)):\n",
        "  lossval = history.history['loss'][i]\n",
        "  if minloss > lossval:\n",
        "    minloss= lossval\n",
        "    minlossindex = i\n",
        "  print(\"Epoch Number :\",history.epoch[i], \"\\tValue :\",lossval)\n",
        "\n"
      ],
      "execution_count": 19,
      "outputs": [
        {
          "output_type": "stream",
          "text": [
            "Epoch Number : 1 \tValue : 1.0306444624126359\n",
            "Epoch Number : 2 \tValue : 0.8778618194112842\n",
            "Epoch Number : 3 \tValue : 0.6398539423142504\n",
            "Epoch Number : 4 \tValue : 0.59747780649454\n",
            "Epoch Number : 5 \tValue : 0.5953545458364806\n",
            "Epoch Number : 6 \tValue : 0.5799060899939313\n",
            "Epoch Number : 7 \tValue : 0.5512746852516328\n",
            "Epoch Number : 8 \tValue : 0.5395641358906791\n",
            "Epoch Number : 9 \tValue : 0.5198410585422644\n",
            "Epoch Number : 10 \tValue : 0.50465475512831\n",
            "Epoch Number : 11 \tValue : 0.4827319275612799\n",
            "Epoch Number : 12 \tValue : 0.4666426413811293\n",
            "Epoch Number : 13 \tValue : 0.4427895961991893\n",
            "Epoch Number : 14 \tValue : 0.4275132385676339\n",
            "Epoch Number : 15 \tValue : 0.39519248112736133\n",
            "Epoch Number : 16 \tValue : 0.3689576423408201\n",
            "Epoch Number : 17 \tValue : 0.3392448454295229\n",
            "Epoch Number : 18 \tValue : 0.3108967596652524\n",
            "Epoch Number : 19 \tValue : 0.27933703712969016\n",
            "Epoch Number : 20 \tValue : 0.24717246396029555\n",
            "Epoch Number : 21 \tValue : 0.21954910927170876\n",
            "Epoch Number : 22 \tValue : 0.18986851506985275\n",
            "Epoch Number : 23 \tValue : 0.16507299864452157\n",
            "Epoch Number : 24 \tValue : 0.1476477527578405\n",
            "Epoch Number : 25 \tValue : 0.1379487673008202\n",
            "Epoch Number : 26 \tValue : 0.14543741561422413\n",
            "Epoch Number : 27 \tValue : 0.13388617696778085\n",
            "Epoch Number : 28 \tValue : 0.12614645898942178\n",
            "Epoch Number : 29 \tValue : 0.13981235287333496\n",
            "Epoch Number : 30 \tValue : 0.1264991053198808\n",
            "Epoch Number : 31 \tValue : 0.12349040796292708\n",
            "Epoch Number : 32 \tValue : 0.13257144841571783\n",
            "Epoch Number : 33 \tValue : 0.12082472493584524\n",
            "Epoch Number : 34 \tValue : 0.12180764873155811\n",
            "Epoch Number : 35 \tValue : 0.12413206841521615\n",
            "Epoch Number : 36 \tValue : 0.12060287814812372\n",
            "Epoch Number : 37 \tValue : 0.1302542750967429\n",
            "Epoch Number : 38 \tValue : 0.12970314654927925\n",
            "Epoch Number : 39 \tValue : 0.12364956181521383\n",
            "Epoch Number : 40 \tValue : 0.12798994729582897\n",
            "Epoch Number : 41 \tValue : 0.10568631460402636\n",
            "Epoch Number : 42 \tValue : 0.10517670584205013\n",
            "Epoch Number : 43 \tValue : 0.10480971564382514\n",
            "Epoch Number : 44 \tValue : 0.09878871294876072\n",
            "Epoch Number : 45 \tValue : 0.10284320650084706\n",
            "Epoch Number : 46 \tValue : 0.10645263192037609\n",
            "Epoch Number : 47 \tValue : 0.09683520981929446\n",
            "Epoch Number : 48 \tValue : 0.09868478595010387\n",
            "Epoch Number : 49 \tValue : 0.10937403832506014\n",
            "Epoch Number : 50 \tValue : 0.09306435151988228\n",
            "Epoch Number : 51 \tValue : 0.09785354822474038\n",
            "Epoch Number : 52 \tValue : 0.09059913696458675\n",
            "Epoch Number : 53 \tValue : 0.09461305970513581\n",
            "Epoch Number : 54 \tValue : 0.09278084812748352\n",
            "Epoch Number : 55 \tValue : 0.09312629884721449\n",
            "Epoch Number : 56 \tValue : 0.0935603150935381\n",
            "Epoch Number : 57 \tValue : 0.08961325038799503\n",
            "Epoch Number : 58 \tValue : 0.09558476137634891\n",
            "Epoch Number : 59 \tValue : 0.11027811287633525\n",
            "Epoch Number : 60 \tValue : 0.11117250567314609\n",
            "Epoch Number : 61 \tValue : 0.11219641596278888\n",
            "Epoch Number : 62 \tValue : 0.08943057505276379\n",
            "Epoch Number : 63 \tValue : 0.11000602817375388\n",
            "Epoch Number : 64 \tValue : 0.0855240273295633\n",
            "Epoch Number : 65 \tValue : 0.08764618500167091\n",
            "Epoch Number : 66 \tValue : 0.09573019893477427\n",
            "Epoch Number : 67 \tValue : 0.09276247024536133\n",
            "Epoch Number : 68 \tValue : 0.0896821198797466\n",
            "Epoch Number : 69 \tValue : 0.08931920472407501\n",
            "Epoch Number : 70 \tValue : 0.0925801234357309\n",
            "Epoch Number : 71 \tValue : 0.08371002427083533\n",
            "Epoch Number : 72 \tValue : 0.08235193573988524\n",
            "Epoch Number : 73 \tValue : 0.08121601397159116\n",
            "Epoch Number : 74 \tValue : 0.08553458030191843\n",
            "Epoch Number : 75 \tValue : 0.08986689120331066\n",
            "Epoch Number : 76 \tValue : 0.08769356129353478\n",
            "Epoch Number : 77 \tValue : 0.0867809573275931\n",
            "Epoch Number : 78 \tValue : 0.09584269432613514\n",
            "Epoch Number : 79 \tValue : 0.0880284338389467\n",
            "Epoch Number : 80 \tValue : 0.0850376549783169\n",
            "Epoch Number : 81 \tValue : 0.08713702202443309\n",
            "Epoch Number : 82 \tValue : 0.08339959698035412\n",
            "Epoch Number : 83 \tValue : 0.07561007542098129\n",
            "Epoch Number : 84 \tValue : 0.07755855190873946\n",
            "Epoch Number : 85 \tValue : 0.07900339004977437\n",
            "Epoch Number : 86 \tValue : 0.07866647704535683\n",
            "Epoch Number : 87 \tValue : 0.07897859714275239\n",
            "Epoch Number : 88 \tValue : 0.07932947446035858\n",
            "Epoch Number : 89 \tValue : 0.07645524313185839\n",
            "Epoch Number : 90 \tValue : 0.07404558645598841\n",
            "Epoch Number : 91 \tValue : 0.074181730915236\n",
            "Epoch Number : 92 \tValue : 0.07593464066318217\n",
            "Epoch Number : 93 \tValue : 0.0815100252828342\n",
            "Epoch Number : 94 \tValue : 0.0798601871918912\n",
            "Epoch Number : 95 \tValue : 0.08421375127446731\n",
            "Epoch Number : 96 \tValue : 0.09484400135158692\n",
            "Epoch Number : 97 \tValue : 0.09079997506517692\n",
            "Epoch Number : 98 \tValue : 0.07423469834279695\n",
            "Epoch Number : 99 \tValue : 0.07295210394483284\n",
            "Epoch Number : 100 \tValue : 0.08054996831905122\n",
            "Epoch Number : 101 \tValue : 0.07281386942271419\n",
            "Epoch Number : 102 \tValue : 0.07191947992616052\n",
            "Epoch Number : 103 \tValue : 0.07149364619247066\n",
            "Epoch Number : 104 \tValue : 0.07139462297594787\n",
            "Epoch Number : 105 \tValue : 0.07010262997058414\n",
            "Epoch Number : 106 \tValue : 0.07036978261382788\n",
            "Epoch Number : 107 \tValue : 0.0689218870345378\n",
            "Epoch Number : 108 \tValue : 0.07028343078474071\n",
            "Epoch Number : 109 \tValue : 0.069462454534017\n",
            "Epoch Number : 110 \tValue : 0.07074100469182802\n",
            "Epoch Number : 111 \tValue : 0.06968521614302725\n",
            "Epoch Number : 112 \tValue : 0.06897993050765672\n",
            "Epoch Number : 113 \tValue : 0.06792839936562033\n",
            "Epoch Number : 114 \tValue : 0.06920296178768146\n",
            "Epoch Number : 115 \tValue : 0.07063513951713607\n",
            "Epoch Number : 116 \tValue : 0.06791706390728887\n",
            "Epoch Number : 117 \tValue : 0.0706361741477611\n",
            "Epoch Number : 118 \tValue : 0.0667421802278333\n",
            "Epoch Number : 119 \tValue : 0.06623418559164009\n",
            "Epoch Number : 120 \tValue : 0.06662470859869214\n",
            "Epoch Number : 121 \tValue : 0.06641501890832946\n",
            "Epoch Number : 122 \tValue : 0.06663394729363038\n",
            "Epoch Number : 123 \tValue : 0.06996176166822446\n",
            "Epoch Number : 124 \tValue : 0.06720826074781033\n",
            "Epoch Number : 125 \tValue : 0.06762881704524859\n",
            "Epoch Number : 126 \tValue : 0.06752836134209729\n",
            "Epoch Number : 127 \tValue : 0.06499292921499918\n",
            "Epoch Number : 128 \tValue : 0.06517076267292035\n",
            "Epoch Number : 129 \tValue : 0.06486675683283966\n",
            "Epoch Number : 130 \tValue : 0.06438428458551433\n",
            "Epoch Number : 131 \tValue : 0.06436905379863393\n",
            "Epoch Number : 132 \tValue : 0.0654129565962209\n",
            "Epoch Number : 133 \tValue : 0.07031573845236093\n",
            "Epoch Number : 134 \tValue : 0.07510852613705117\n",
            "Epoch Number : 135 \tValue : 0.06803620121623045\n",
            "Epoch Number : 136 \tValue : 0.06282489739308421\n",
            "Epoch Number : 137 \tValue : 0.06360531543325258\n",
            "Epoch Number : 138 \tValue : 0.06418548934411683\n",
            "Epoch Number : 139 \tValue : 0.06390380969383573\n",
            "Epoch Number : 140 \tValue : 0.06781482046482547\n",
            "Epoch Number : 141 \tValue : 0.06744016691942344\n",
            "Epoch Number : 142 \tValue : 0.06361044713314748\n",
            "Epoch Number : 143 \tValue : 0.06273111015958274\n",
            "Epoch Number : 144 \tValue : 0.06290717995506805\n",
            "Epoch Number : 145 \tValue : 0.06547465312900959\n",
            "Epoch Number : 146 \tValue : 0.06520441714549224\n",
            "Epoch Number : 147 \tValue : 0.06668454541155956\n",
            "Epoch Number : 148 \tValue : 0.06656019779659758\n",
            "Epoch Number : 149 \tValue : 0.06369344655099331\n",
            "Epoch Number : 150 \tValue : 0.06635200417281797\n",
            "Epoch Number : 151 \tValue : 0.0658162192210255\n",
            "Epoch Number : 152 \tValue : 0.0619507902020576\n",
            "Epoch Number : 153 \tValue : 0.061970278070677044\n",
            "Epoch Number : 154 \tValue : 0.06276174292168361\n",
            "Epoch Number : 155 \tValue : 0.06850405242419083\n",
            "Epoch Number : 156 \tValue : 0.09041547837773425\n",
            "Epoch Number : 157 \tValue : 0.08118018277939534\n",
            "Epoch Number : 158 \tValue : 0.07747630614962354\n",
            "Epoch Number : 159 \tValue : 0.06686151477714512\n",
            "Epoch Number : 160 \tValue : 0.0739224070570613\n",
            "Epoch Number : 161 \tValue : 0.06458660375151858\n",
            "Epoch Number : 162 \tValue : 0.059778530675692845\n",
            "Epoch Number : 163 \tValue : 0.06051750506130641\n",
            "Epoch Number : 164 \tValue : 0.05939005607826598\n",
            "Epoch Number : 165 \tValue : 0.06087979269307732\n",
            "Epoch Number : 166 \tValue : 0.062169572100943364\n",
            "Epoch Number : 167 \tValue : 0.058161185041770036\n",
            "Epoch Number : 168 \tValue : 0.060725676583363704\n",
            "Epoch Number : 169 \tValue : 0.06278180305989797\n",
            "Epoch Number : 170 \tValue : 0.06370386243766586\n",
            "Epoch Number : 171 \tValue : 0.05977807459015174\n",
            "Epoch Number : 172 \tValue : 0.06159396669608635\n",
            "Epoch Number : 173 \tValue : 0.05773252018746114\n",
            "Epoch Number : 174 \tValue : 0.05806604502785126\n",
            "Epoch Number : 175 \tValue : 0.057942559555072916\n",
            "Epoch Number : 176 \tValue : 0.05943323636815052\n",
            "Epoch Number : 177 \tValue : 0.059448968294082874\n",
            "Epoch Number : 178 \tValue : 0.05999908496269444\n",
            "Epoch Number : 179 \tValue : 0.06228063018029968\n",
            "Epoch Number : 180 \tValue : 0.05767153195986812\n",
            "Epoch Number : 181 \tValue : 0.06285769617397513\n",
            "Epoch Number : 182 \tValue : 0.06294913279930217\n",
            "Epoch Number : 183 \tValue : 0.05752065236486444\n",
            "Epoch Number : 184 \tValue : 0.0609338666318647\n",
            "Epoch Number : 185 \tValue : 0.060887896999616754\n",
            "Epoch Number : 186 \tValue : 0.05669866102253831\n",
            "Epoch Number : 187 \tValue : 0.05694001245518659\n",
            "Epoch Number : 188 \tValue : 0.05714376863317202\n",
            "Epoch Number : 189 \tValue : 0.05639587167725467\n",
            "Epoch Number : 190 \tValue : 0.060720955865495155\n",
            "Epoch Number : 191 \tValue : 0.05769718353380293\n",
            "Epoch Number : 192 \tValue : 0.05697772926932213\n",
            "Epoch Number : 193 \tValue : 0.059779327162760215\n",
            "Epoch Number : 194 \tValue : 0.057912695377865094\n",
            "Epoch Number : 195 \tValue : 0.058416378553081676\n",
            "Epoch Number : 196 \tValue : 0.06547172647594605\n",
            "Epoch Number : 197 \tValue : 0.06515017841886354\n",
            "Epoch Number : 198 \tValue : 0.06870346641380515\n",
            "Epoch Number : 199 \tValue : 0.06093911521586796\n",
            "Epoch Number : 200 \tValue : 0.05789663852661248\n",
            "Epoch Number : 201 \tValue : 0.057867055546317325\n",
            "Epoch Number : 202 \tValue : 0.05887000102724805\n",
            "Epoch Number : 203 \tValue : 0.05580524875213636\n",
            "Epoch Number : 204 \tValue : 0.0569353538171557\n",
            "Epoch Number : 205 \tValue : 0.06209656761196636\n",
            "Epoch Number : 206 \tValue : 0.05625682156658013\n",
            "Epoch Number : 207 \tValue : 0.055406178854055854\n",
            "Epoch Number : 208 \tValue : 0.0581067572004043\n",
            "Epoch Number : 209 \tValue : 0.05689314690312283\n",
            "Epoch Number : 210 \tValue : 0.059348663027654555\n",
            "Epoch Number : 211 \tValue : 0.05476526666007586\n",
            "Epoch Number : 212 \tValue : 0.055219687971492744\n",
            "Epoch Number : 213 \tValue : 0.05559518628272434\n",
            "Epoch Number : 214 \tValue : 0.05363293239634309\n",
            "Epoch Number : 215 \tValue : 0.05463830726658738\n",
            "Epoch Number : 216 \tValue : 0.057014967546166986\n",
            "Epoch Number : 217 \tValue : 0.054465586832105714\n",
            "Epoch Number : 218 \tValue : 0.0547392656339095\n",
            "Epoch Number : 219 \tValue : 0.05285649401629531\n",
            "Epoch Number : 220 \tValue : 0.05475171055369729\n",
            "Epoch Number : 221 \tValue : 0.05424355420490239\n",
            "Epoch Number : 222 \tValue : 0.056048139879767526\n",
            "Epoch Number : 223 \tValue : 0.05386818110342794\n",
            "Epoch Number : 224 \tValue : 0.053190886674311336\n",
            "Epoch Number : 225 \tValue : 0.05337239626870059\n",
            "Epoch Number : 226 \tValue : 0.05353378422008265\n",
            "Epoch Number : 227 \tValue : 0.05326345542933317\n",
            "Epoch Number : 228 \tValue : 0.053887770529961423\n",
            "Epoch Number : 229 \tValue : 0.05739842950297682\n",
            "Epoch Number : 230 \tValue : 0.05549925455711032\n",
            "Epoch Number : 231 \tValue : 0.05836535347688118\n",
            "Epoch Number : 232 \tValue : 0.05589050269566927\n",
            "Epoch Number : 233 \tValue : 0.05540584957839659\n",
            "Epoch Number : 234 \tValue : 0.0553072093167161\n",
            "Epoch Number : 235 \tValue : 0.05550809003312716\n",
            "Epoch Number : 236 \tValue : 0.05549922242960674\n",
            "Epoch Number : 237 \tValue : 0.05281917143288075\n",
            "Epoch Number : 238 \tValue : 0.05366945416735323\n",
            "Epoch Number : 239 \tValue : 0.05698049683498856\n",
            "Epoch Number : 240 \tValue : 0.05371444887362871\n",
            "Epoch Number : 241 \tValue : 0.055195812160936775\n",
            "Epoch Number : 242 \tValue : 0.05383840593315611\n",
            "Epoch Number : 243 \tValue : 0.052428215292076134\n",
            "Epoch Number : 244 \tValue : 0.053720160118685474\n",
            "Epoch Number : 245 \tValue : 0.052730886653165686\n",
            "Epoch Number : 246 \tValue : 0.05205633031241846\n",
            "Epoch Number : 247 \tValue : 0.05202955852618953\n",
            "Epoch Number : 248 \tValue : 0.05212169365594851\n",
            "Epoch Number : 249 \tValue : 0.053516735416530764\n",
            "Epoch Number : 250 \tValue : 0.05201221814991644\n",
            "Epoch Number : 251 \tValue : 0.05157834273956766\n",
            "Epoch Number : 252 \tValue : 0.05348365763889863\n",
            "Epoch Number : 253 \tValue : 0.05207392240830716\n",
            "Epoch Number : 254 \tValue : 0.05314935793812643\n",
            "Epoch Number : 255 \tValue : 0.052958145487628526\n",
            "Epoch Number : 256 \tValue : 0.05119573742451284\n",
            "Epoch Number : 257 \tValue : 0.05493601566593119\n",
            "Epoch Number : 258 \tValue : 0.05095645390300943\n",
            "Epoch Number : 259 \tValue : 0.05346451854745814\n",
            "Epoch Number : 260 \tValue : 0.05305250279055346\n",
            "Epoch Number : 261 \tValue : 0.051063676608488866\n",
            "Epoch Number : 262 \tValue : 0.05454454748522515\n",
            "Epoch Number : 263 \tValue : 0.05163791918214536\n",
            "Epoch Number : 264 \tValue : 0.05200949423765176\n",
            "Epoch Number : 265 \tValue : 0.051504848537429065\n",
            "Epoch Number : 266 \tValue : 0.051528937739613874\n",
            "Epoch Number : 267 \tValue : 0.05128234009814742\n",
            "Epoch Number : 268 \tValue : 0.05102409557408134\n",
            "Epoch Number : 269 \tValue : 0.05075374850690765\n",
            "Epoch Number : 270 \tValue : 0.051597893013050095\n",
            "Epoch Number : 271 \tValue : 0.05227909897197813\n",
            "Epoch Number : 272 \tValue : 0.05656467488148068\n",
            "Epoch Number : 273 \tValue : 0.05577705595517318\n",
            "Epoch Number : 274 \tValue : 0.055133359294209705\n",
            "Epoch Number : 275 \tValue : 0.06355991439531314\n",
            "Epoch Number : 276 \tValue : 0.06271408298271615\n",
            "Epoch Number : 277 \tValue : 0.0627338387222098\n",
            "Epoch Number : 278 \tValue : 0.06942633196911556\n",
            "Epoch Number : 279 \tValue : 0.058000570475655114\n",
            "Epoch Number : 280 \tValue : 0.05518611195503465\n",
            "Epoch Number : 281 \tValue : 0.052569295610957495\n",
            "Epoch Number : 282 \tValue : 0.061041704010243385\n",
            "Epoch Number : 283 \tValue : 0.05251833834004082\n",
            "Epoch Number : 284 \tValue : 0.052156088536217705\n",
            "Epoch Number : 285 \tValue : 0.05093220446333789\n",
            "Epoch Number : 286 \tValue : 0.04998242655056435\n",
            "Epoch Number : 287 \tValue : 0.05090617388486862\n",
            "Epoch Number : 288 \tValue : 0.059042982407064244\n",
            "Epoch Number : 289 \tValue : 0.05797454977295543\n",
            "Epoch Number : 290 \tValue : 0.051296197402997304\n",
            "Epoch Number : 291 \tValue : 0.049484525350916304\n",
            "Epoch Number : 292 \tValue : 0.051128869638747014\n",
            "Epoch Number : 293 \tValue : 0.05083156892117238\n",
            "Epoch Number : 294 \tValue : 0.05132289238324101\n",
            "Epoch Number : 295 \tValue : 0.05074587849362584\n",
            "Epoch Number : 296 \tValue : 0.05246243475867598\n",
            "Epoch Number : 297 \tValue : 0.05038093580495591\n",
            "Epoch Number : 298 \tValue : 0.051808809924045664\n",
            "Epoch Number : 299 \tValue : 0.04905994196466151\n",
            "Epoch Number : 300 \tValue : 0.05127740566362471\n",
            "Epoch Number : 301 \tValue : 0.052092530983406424\n",
            "Epoch Number : 302 \tValue : 0.053401537839598306\n",
            "Epoch Number : 303 \tValue : 0.050781534272152304\n",
            "Epoch Number : 304 \tValue : 0.04931005080474303\n",
            "Epoch Number : 305 \tValue : 0.04994967164809272\n",
            "Epoch Number : 306 \tValue : 0.05053656710774306\n",
            "Epoch Number : 307 \tValue : 0.05085165286124153\n",
            "Epoch Number : 308 \tValue : 0.05050618481516038\n",
            "Epoch Number : 309 \tValue : 0.05105182838519948\n",
            "Epoch Number : 310 \tValue : 0.052458698317508566\n",
            "Epoch Number : 311 \tValue : 0.05365968708123937\n",
            "Epoch Number : 312 \tValue : 0.05405717013066247\n",
            "Epoch Number : 313 \tValue : 0.04939804426175636\n",
            "Epoch Number : 314 \tValue : 0.05202925587760522\n",
            "Epoch Number : 315 \tValue : 0.049041624137219166\n",
            "Epoch Number : 316 \tValue : 0.05011118513425725\n",
            "Epoch Number : 317 \tValue : 0.048747728284973424\n",
            "Epoch Number : 318 \tValue : 0.049773999658606995\n",
            "Epoch Number : 319 \tValue : 0.049561324135569115\n",
            "Epoch Number : 320 \tValue : 0.048929023937690976\n",
            "Epoch Number : 321 \tValue : 0.049508810443366136\n",
            "Epoch Number : 322 \tValue : 0.049213548384656844\n",
            "Epoch Number : 323 \tValue : 0.048603319044181165\n",
            "Epoch Number : 324 \tValue : 0.050509284231686755\n",
            "Epoch Number : 325 \tValue : 0.050104434833230585\n",
            "Epoch Number : 326 \tValue : 0.048263153273787274\n",
            "Epoch Number : 327 \tValue : 0.05552981381348315\n",
            "Epoch Number : 328 \tValue : 0.05147750048129351\n",
            "Epoch Number : 329 \tValue : 0.04853583552293329\n",
            "Epoch Number : 330 \tValue : 0.05055516103170062\n",
            "Epoch Number : 331 \tValue : 0.04944042298917802\n",
            "Epoch Number : 332 \tValue : 0.04885705820466048\n",
            "Epoch Number : 333 \tValue : 0.04886466482241682\n",
            "Epoch Number : 334 \tValue : 0.04859564665879979\n",
            "Epoch Number : 335 \tValue : 0.049227734915162094\n",
            "Epoch Number : 336 \tValue : 0.04883824321347595\n",
            "Epoch Number : 337 \tValue : 0.048885049285904675\n",
            "Epoch Number : 338 \tValue : 0.05314983917562754\n",
            "Epoch Number : 339 \tValue : 0.05656514046776215\n",
            "Epoch Number : 340 \tValue : 0.052755691136089744\n",
            "Epoch Number : 341 \tValue : 0.050733779300779304\n",
            "Epoch Number : 342 \tValue : 0.0526947937655769\n",
            "Epoch Number : 343 \tValue : 0.04971004777506694\n",
            "Epoch Number : 344 \tValue : 0.052068034099452445\n",
            "Epoch Number : 345 \tValue : 0.048964909059089304\n",
            "Epoch Number : 346 \tValue : 0.04857759027673094\n",
            "Epoch Number : 347 \tValue : 0.04993298857304074\n",
            "Epoch Number : 348 \tValue : 0.04954175041025917\n",
            "Epoch Number : 349 \tValue : 0.04803018304425598\n",
            "Epoch Number : 350 \tValue : 0.04865183856263257\n",
            "Epoch Number : 351 \tValue : 0.04845415758306548\n",
            "Epoch Number : 352 \tValue : 0.04866805025095108\n",
            "Epoch Number : 353 \tValue : 0.05139681174351065\n",
            "Epoch Number : 354 \tValue : 0.050257745630189074\n",
            "Epoch Number : 355 \tValue : 0.04852476601032603\n",
            "Epoch Number : 356 \tValue : 0.048978634928696904\n",
            "Epoch Number : 357 \tValue : 0.048418205231428146\n",
            "Epoch Number : 358 \tValue : 0.047859885398573526\n",
            "Epoch Number : 359 \tValue : 0.05035666878891471\n",
            "Epoch Number : 360 \tValue : 0.0523167576815858\n",
            "Epoch Number : 361 \tValue : 0.04994273088222382\n",
            "Epoch Number : 362 \tValue : 0.051636910628552406\n",
            "Epoch Number : 363 \tValue : 0.05083592877341997\n",
            "Epoch Number : 364 \tValue : 0.05282189412004996\n",
            "Epoch Number : 365 \tValue : 0.05210461004968458\n",
            "Epoch Number : 366 \tValue : 0.05015554329092871\n",
            "Epoch Number : 367 \tValue : 0.05290952322367054\n",
            "Epoch Number : 368 \tValue : 0.048868399338434204\n",
            "Epoch Number : 369 \tValue : 0.04866168347981152\n",
            "Epoch Number : 370 \tValue : 0.05166848531405398\n",
            "Epoch Number : 371 \tValue : 0.04949716981125358\n",
            "Epoch Number : 372 \tValue : 0.04971367460769295\n",
            "Epoch Number : 373 \tValue : 0.04946125663766925\n",
            "Epoch Number : 374 \tValue : 0.048487349469589706\n",
            "Epoch Number : 375 \tValue : 0.05295517603122948\n",
            "Epoch Number : 376 \tValue : 0.05247722996161288\n",
            "Epoch Number : 377 \tValue : 0.050230291003248835\n",
            "Epoch Number : 378 \tValue : 0.04884634161955558\n",
            "Epoch Number : 379 \tValue : 0.049288209752748474\n",
            "Epoch Number : 380 \tValue : 0.04758909459682119\n",
            "Epoch Number : 381 \tValue : 0.048523993350115396\n",
            "Epoch Number : 382 \tValue : 0.04935194024403623\n",
            "Epoch Number : 383 \tValue : 0.05393398553133011\n",
            "Epoch Number : 384 \tValue : 0.05796795658417196\n",
            "Epoch Number : 385 \tValue : 0.056003760971478966\n",
            "Epoch Number : 386 \tValue : 0.04754471158821311\n",
            "Epoch Number : 387 \tValue : 0.05116476188570061\n",
            "Epoch Number : 388 \tValue : 0.04916955873170155\n",
            "Epoch Number : 389 \tValue : 0.04808025449614397\n",
            "Epoch Number : 390 \tValue : 0.048784435195410814\n",
            "Epoch Number : 391 \tValue : 0.047400757095357716\n",
            "Epoch Number : 392 \tValue : 0.0522078245678204\n",
            "Epoch Number : 393 \tValue : 0.05583476767743994\n",
            "Epoch Number : 394 \tValue : 0.052156050383244584\n",
            "Epoch Number : 395 \tValue : 0.04862711836127627\n",
            "Epoch Number : 396 \tValue : 0.04880951147451497\n",
            "Epoch Number : 397 \tValue : 0.047462294065712285\n",
            "Epoch Number : 398 \tValue : 0.0483128479963181\n",
            "Epoch Number : 399 \tValue : 0.04927302306930491\n"
          ],
          "name": "stdout"
        }
      ]
    },
    {
      "metadata": {
        "id": "wvTqalv62JMy",
        "colab_type": "code",
        "outputId": "691b8a7d-3223-4833-95c4-0116f1310fa2",
        "colab": {
          "base_uri": "https://localhost:8080/",
          "height": 34
        }
      },
      "cell_type": "code",
      "source": [
        "print(\"Minimum Loss at iteration: \",minlossindex,\"\\t With Loss Value:\",minloss)"
      ],
      "execution_count": 20,
      "outputs": [
        {
          "output_type": "stream",
          "text": [
            "Minimum Loss at iteration:  391 \t With Loss Value: 0.047400757095357716\n"
          ],
          "name": "stdout"
        }
      ]
    },
    {
      "metadata": {
        "id": "z5ThVRdYva_z",
        "colab_type": "code",
        "outputId": "38152c2e-cbf4-40c4-ab9a-7d996cd520bb",
        "colab": {
          "base_uri": "https://localhost:8080/",
          "height": 34
        }
      },
      "cell_type": "code",
      "source": [
        "min(history.history['loss'])"
      ],
      "execution_count": 21,
      "outputs": [
        {
          "output_type": "execute_result",
          "data": {
            "text/plain": [
              "0.047400757095357716"
            ]
          },
          "metadata": {
            "tags": []
          },
          "execution_count": 21
        }
      ]
    },
    {
      "metadata": {
        "id": "dIe0Wn2XHiqp",
        "colab_type": "code",
        "outputId": "a1c68fbc-501f-4642-f2f7-a02f640d1666",
        "colab": {
          "base_uri": "https://localhost:8080/",
          "height": 34
        }
      },
      "cell_type": "code",
      "source": [
        "print(model.predict(df.loc[80:80]))"
      ],
      "execution_count": 22,
      "outputs": [
        {
          "output_type": "stream",
          "text": [
            "[[0.9617251]]\n"
          ],
          "name": "stdout"
        }
      ]
    },
    {
      "metadata": {
        "id": "fWINVJo0Q27T",
        "colab_type": "code",
        "outputId": "95d009f3-0c51-4a59-dea1-3c245709b571",
        "colab": {
          "base_uri": "https://localhost:8080/",
          "height": 34
        }
      },
      "cell_type": "code",
      "source": [
        "model.predict(df.loc[80:80]).item(-1)"
      ],
      "execution_count": 24,
      "outputs": [
        {
          "output_type": "execute_result",
          "data": {
            "text/plain": [
              "0.961725115776062"
            ]
          },
          "metadata": {
            "tags": []
          },
          "execution_count": 24
        }
      ]
    },
    {
      "metadata": {
        "id": "yLtlxv2fJcn9",
        "colab_type": "code",
        "outputId": "97db0597-7019-4f68-cc6d-16cadb97a1ce",
        "colab": {
          "base_uri": "https://localhost:8080/",
          "height": 70
        }
      },
      "cell_type": "code",
      "source": [
        "pred_df_array = np.array(['Predicted Output Classes'])\n",
        "print(pred_df_array)\n",
        "\n",
        "pred_df_array_round= np.array(['Predicted Output Classes - Rounded'])\n",
        "print(pred_df_array_round)\n",
        "#pred_df_array_2 = np.array([1])\n",
        "#print(pred_df_array_2)\n",
        "\n",
        "#pred_df_array = np.append(pred_df_array,pred_df_array_2,axis=0)\n",
        "\n",
        "print(pred_df_array.transpose())"
      ],
      "execution_count": 38,
      "outputs": [
        {
          "output_type": "stream",
          "text": [
            "['Predicted Output Classes']\n",
            "['Predicted Output Classes - Rounded']\n",
            "['Predicted Output Classes']\n"
          ],
          "name": "stdout"
        }
      ]
    },
    {
      "metadata": {
        "id": "1oquU-vQOGe8",
        "colab_type": "code",
        "outputId": "95b41c62-24fe-4b26-ea60-4c938fe37a1b",
        "colab": {
          "base_uri": "https://localhost:8080/",
          "height": 48
        }
      },
      "cell_type": "code",
      "source": [
        "df_pred = pd.DataFrame(columns=['Predicted', 'Predicted_Rounded'])\n",
        "#df_pred = df_pred.append({'Index':1, 'Predicted':22,'Predicted Rounded':33},ignore_index=True)\n",
        "#df_pred.iloc[[1]]\n",
        "#df_pred.iloc[0] = (1,1,1)\n",
        "df_pred"
      ],
      "execution_count": 39,
      "outputs": [
        {
          "output_type": "execute_result",
          "data": {
            "text/html": [
              "<div>\n",
              "<style scoped>\n",
              "    .dataframe tbody tr th:only-of-type {\n",
              "        vertical-align: middle;\n",
              "    }\n",
              "\n",
              "    .dataframe tbody tr th {\n",
              "        vertical-align: top;\n",
              "    }\n",
              "\n",
              "    .dataframe thead th {\n",
              "        text-align: right;\n",
              "    }\n",
              "</style>\n",
              "<table border=\"1\" class=\"dataframe\">\n",
              "  <thead>\n",
              "    <tr style=\"text-align: right;\">\n",
              "      <th></th>\n",
              "      <th>Predicted</th>\n",
              "      <th>Predicted_Rounded</th>\n",
              "    </tr>\n",
              "  </thead>\n",
              "  <tbody>\n",
              "  </tbody>\n",
              "</table>\n",
              "</div>"
            ],
            "text/plain": [
              "Empty DataFrame\n",
              "Columns: [Predicted, Predicted_Rounded]\n",
              "Index: []"
            ]
          },
          "metadata": {
            "tags": []
          },
          "execution_count": 39
        }
      ]
    },
    {
      "metadata": {
        "id": "T3Og9xcNH2IX",
        "colab_type": "code",
        "colab": {
          "base_uri": "https://localhost:8080/",
          "height": 2639
        },
        "outputId": "7e3a2acf-a0c6-42f3-d59b-81485d092945"
      },
      "cell_type": "code",
      "source": [
        "for i in range(0,149):\n",
        "  m = model.predict(df.loc[i:i])\n",
        "  val = m.item(0)\n",
        "  df_pred_2 = pd.DataFrame({'Predicted':val, 'Predicted_Rounded':round(val)},index=[i])\n",
        "  #df_pred = df_pred.append({'Index':i, 'Predicted':val,'Predicted Rounded':1},ignore_index=True)\n",
        "  df_pred = df_pred.append(df_pred_2)\n",
        "  print(i, val)\n",
        "  "
      ],
      "execution_count": 40,
      "outputs": [
        {
          "output_type": "stream",
          "text": [
            "0 -0.027884192764759064\n",
            "1 -0.03649670630693436\n",
            "2 0.029870323836803436\n",
            "3 -0.04192311316728592\n",
            "4 0.10074310749769211\n",
            "5 0.051271192729473114\n",
            "6 -0.012888200581073761\n",
            "7 0.02380942553281784\n",
            "8 -0.051836974918842316\n",
            "9 -0.05564666539430618\n",
            "10 0.035293035209178925\n",
            "11 -0.06874687224626541\n",
            "12 -0.10096830874681473\n",
            "13 -0.18168199062347412\n",
            "14 0.011402003467082977\n",
            "15 -0.010292895138263702\n",
            "16 -0.0004223659634590149\n",
            "17 0.019673816859722137\n",
            "18 0.025422625243663788\n",
            "19 0.0017851516604423523\n",
            "20 0.07713466137647629\n",
            "21 -0.1121145561337471\n",
            "22 0.18627843260765076\n",
            "23 0.11857002228498459\n",
            "24 0.017422668635845184\n",
            "25 0.1170186921954155\n",
            "26 -0.03394848853349686\n",
            "27 -0.06106949597597122\n",
            "28 0.04678016155958176\n",
            "29 0.03720699995756149\n",
            "30 0.04841511696577072\n",
            "31 -0.08885014802217484\n",
            "32 -0.09680671244859695\n",
            "33 -0.051836974918842316\n",
            "34 -0.09488917142152786\n",
            "35 -0.12009990960359573\n",
            "36 -0.051836974918842316\n",
            "37 -0.004587359726428986\n",
            "38 -0.02309931069612503\n",
            "39 -0.017970271408557892\n",
            "40 0.04074113816022873\n",
            "41 -0.005863375961780548\n",
            "42 0.21852847933769226\n",
            "43 0.18753263354301453\n",
            "44 0.033400826156139374\n",
            "45 0.002107672393321991\n",
            "46 0.0014733001589775085\n",
            "47 -0.04543549567461014\n",
            "48 -0.0400092676281929\n",
            "49 1.285339593887329\n",
            "50 1.3421624898910522\n",
            "51 1.4027806520462036\n",
            "52 1.1988614797592163\n",
            "53 1.3622621297836304\n",
            "54 1.3140445947647095\n",
            "55 1.4583274126052856\n",
            "56 0.9119559526443481\n",
            "57 1.2492650747299194\n",
            "58 1.2502580881118774\n",
            "59 0.959814727306366\n",
            "60 1.311216950416565\n",
            "61 0.9952221512794495\n",
            "62 1.379153847694397\n",
            "63 1.073786735534668\n",
            "64 1.233333945274353\n",
            "65 1.4251275062561035\n",
            "66 1.0402135848999023\n",
            "67 1.368964433670044\n",
            "68 1.0574676990509033\n",
            "69 1.6297167539596558\n",
            "70 1.1344050168991089\n",
            "71 1.4678751230239868\n",
            "72 1.2776439189910889\n",
            "73 1.1864105463027954\n",
            "74 1.24418306350708\n",
            "75 1.3360728025436401\n",
            "76 1.5537477731704712\n",
            "77 1.3849209547042847\n",
            "78 0.8845087885856628\n",
            "79 1.0405577421188354\n",
            "80 0.961725115776062\n",
            "81 1.086843490600586\n",
            "82 1.6038247346878052\n",
            "83 1.4455496072769165\n",
            "84 1.4328049421310425\n",
            "85 1.3676849603652954\n",
            "86 1.228208303451538\n",
            "87 1.2119437456130981\n",
            "88 1.1975857019424438\n",
            "89 1.256909966468811\n",
            "90 1.3507567644119263\n",
            "91 1.115240454673767\n",
            "92 0.9023826718330383\n",
            "93 1.2416163682937622\n",
            "94 1.1784175634384155\n",
            "95 1.230129599571228\n",
            "96 1.2068328857421875\n",
            "97 0.8586926460266113\n",
            "98 1.2030084133148193\n",
            "99 2.2788593769073486\n",
            "100 1.7774686813354492\n",
            "101 1.9670299291610718\n",
            "102 1.812857985496521\n",
            "103 2.0516116619110107\n",
            "104 2.1102869510650635\n",
            "105 1.6019431352615356\n",
            "106 1.9050594568252563\n",
            "107 1.8300833702087402\n",
            "108 2.212804079055786\n",
            "109 1.753874659538269\n",
            "110 1.7717199325561523\n",
            "111 1.8866270780563354\n",
            "112 1.8122707605361938\n",
            "113 2.0322000980377197\n",
            "114 1.9728256464004517\n",
            "115 1.7640385627746582\n",
            "116 2.173804998397827\n",
            "117 2.288052797317505\n",
            "118 1.5281816720962524\n",
            "119 2.032806158065796\n",
            "120 1.7928088903427124\n",
            "121 2.0780367851257324\n",
            "122 1.6198209524154663\n",
            "123 1.9504421949386597\n",
            "124 1.8300795555114746\n",
            "125 1.601635217666626\n",
            "126 1.6383293867111206\n",
            "127 1.9565064907073975\n",
            "128 1.6736899614334106\n",
            "129 1.8910421133041382\n",
            "130 1.967957615852356\n",
            "131 2.007580518722534\n",
            "132 1.5214793682098389\n",
            "133 1.630898356437683\n",
            "134 2.0634286403656006\n",
            "135 2.1161115169525146\n",
            "136 1.7736119031906128\n",
            "137 1.6207815408706665\n",
            "138 1.848018765449524\n",
            "139 2.077181100845337\n",
            "140 1.8668897151947021\n",
            "141 1.7774686813354492\n",
            "142 2.0985350608825684\n",
            "143 2.154738187789917\n",
            "144 1.9157088994979858\n",
            "145 1.6999298334121704\n",
            "146 1.7829097509384155\n",
            "147 2.019731044769287\n",
            "148 1.714269757270813\n"
          ],
          "name": "stdout"
        }
      ]
    },
    {
      "metadata": {
        "id": "mfy7pe_QI9N-",
        "colab_type": "code",
        "outputId": "2f258181-c720-45cf-af0b-244bf64794ba",
        "colab": {
          "base_uri": "https://localhost:8080/",
          "height": 34
        }
      },
      "cell_type": "code",
      "source": [
        "len(df_pred)\n",
        "#df_pred.head(5)"
      ],
      "execution_count": 41,
      "outputs": [
        {
          "output_type": "execute_result",
          "data": {
            "text/plain": [
              "149"
            ]
          },
          "metadata": {
            "tags": []
          },
          "execution_count": 41
        }
      ]
    },
    {
      "metadata": {
        "id": "9KbKjMGpaSPO",
        "colab_type": "code",
        "colab": {
          "base_uri": "https://localhost:8080/",
          "height": 1108
        },
        "outputId": "5cdc54e8-e582-4b92-d3e4-0556a7d7df19"
      },
      "cell_type": "code",
      "source": [
        "#df_raw.head(5)\n",
        "df_raw.Class"
      ],
      "execution_count": 42,
      "outputs": [
        {
          "output_type": "execute_result",
          "data": {
            "text/plain": [
              "0      0\n",
              "1      0\n",
              "2      0\n",
              "3      0\n",
              "4      0\n",
              "5      0\n",
              "6      0\n",
              "7      0\n",
              "8      0\n",
              "9      0\n",
              "10     0\n",
              "11     0\n",
              "12     0\n",
              "13     0\n",
              "14     0\n",
              "15     0\n",
              "16     0\n",
              "17     0\n",
              "18     0\n",
              "19     0\n",
              "20     0\n",
              "21     0\n",
              "22     0\n",
              "23     0\n",
              "24     0\n",
              "25     0\n",
              "26     0\n",
              "27     0\n",
              "28     0\n",
              "29     0\n",
              "      ..\n",
              "119    2\n",
              "120    2\n",
              "121    2\n",
              "122    2\n",
              "123    2\n",
              "124    2\n",
              "125    2\n",
              "126    2\n",
              "127    2\n",
              "128    2\n",
              "129    2\n",
              "130    2\n",
              "131    2\n",
              "132    2\n",
              "133    2\n",
              "134    2\n",
              "135    2\n",
              "136    2\n",
              "137    2\n",
              "138    2\n",
              "139    2\n",
              "140    2\n",
              "141    2\n",
              "142    2\n",
              "143    2\n",
              "144    2\n",
              "145    2\n",
              "146    2\n",
              "147    2\n",
              "148    2\n",
              "Name: Class, Length: 149, dtype: int64"
            ]
          },
          "metadata": {
            "tags": []
          },
          "execution_count": 42
        }
      ]
    },
    {
      "metadata": {
        "id": "L4a6NNcZQRON",
        "colab_type": "code",
        "outputId": "dd874c3e-170c-4c6d-b5e3-5270590f14a1",
        "colab": {
          "base_uri": "https://localhost:8080/",
          "height": 34
        }
      },
      "cell_type": "code",
      "source": [
        "eval_df = pd.DataFrame(df_raw.Class)\n",
        "len(eval_df)"
      ],
      "execution_count": 43,
      "outputs": [
        {
          "output_type": "execute_result",
          "data": {
            "text/plain": [
              "149"
            ]
          },
          "metadata": {
            "tags": []
          },
          "execution_count": 43
        }
      ]
    },
    {
      "metadata": {
        "id": "9MigfH93WuWv",
        "colab_type": "code",
        "colab": {}
      },
      "cell_type": "code",
      "source": [
        "eval_df['Predicted'] = df_pred.Predicted\n",
        "eval_df['Predicted_Rounded'] = df_pred.Predicted_Rounded"
      ],
      "execution_count": 0,
      "outputs": []
    },
    {
      "metadata": {
        "id": "ixSlqll1ZVqQ",
        "colab_type": "code",
        "outputId": "2b57b28e-b1dd-41a5-9584-9845eb79a1fd",
        "colab": {
          "base_uri": "https://localhost:8080/",
          "height": 203
        }
      },
      "cell_type": "code",
      "source": [
        "eval_df.head(5)"
      ],
      "execution_count": 45,
      "outputs": [
        {
          "output_type": "execute_result",
          "data": {
            "text/html": [
              "<div>\n",
              "<style scoped>\n",
              "    .dataframe tbody tr th:only-of-type {\n",
              "        vertical-align: middle;\n",
              "    }\n",
              "\n",
              "    .dataframe tbody tr th {\n",
              "        vertical-align: top;\n",
              "    }\n",
              "\n",
              "    .dataframe thead th {\n",
              "        text-align: right;\n",
              "    }\n",
              "</style>\n",
              "<table border=\"1\" class=\"dataframe\">\n",
              "  <thead>\n",
              "    <tr style=\"text-align: right;\">\n",
              "      <th></th>\n",
              "      <th>Class</th>\n",
              "      <th>Predicted</th>\n",
              "      <th>Predicted_Rounded</th>\n",
              "    </tr>\n",
              "  </thead>\n",
              "  <tbody>\n",
              "    <tr>\n",
              "      <th>0</th>\n",
              "      <td>0</td>\n",
              "      <td>-0.027884</td>\n",
              "      <td>0</td>\n",
              "    </tr>\n",
              "    <tr>\n",
              "      <th>1</th>\n",
              "      <td>0</td>\n",
              "      <td>-0.036497</td>\n",
              "      <td>0</td>\n",
              "    </tr>\n",
              "    <tr>\n",
              "      <th>2</th>\n",
              "      <td>0</td>\n",
              "      <td>0.029870</td>\n",
              "      <td>0</td>\n",
              "    </tr>\n",
              "    <tr>\n",
              "      <th>3</th>\n",
              "      <td>0</td>\n",
              "      <td>-0.041923</td>\n",
              "      <td>0</td>\n",
              "    </tr>\n",
              "    <tr>\n",
              "      <th>4</th>\n",
              "      <td>0</td>\n",
              "      <td>0.100743</td>\n",
              "      <td>0</td>\n",
              "    </tr>\n",
              "  </tbody>\n",
              "</table>\n",
              "</div>"
            ],
            "text/plain": [
              "   Class  Predicted Predicted_Rounded\n",
              "0      0  -0.027884                 0\n",
              "1      0  -0.036497                 0\n",
              "2      0   0.029870                 0\n",
              "3      0  -0.041923                 0\n",
              "4      0   0.100743                 0"
            ]
          },
          "metadata": {
            "tags": []
          },
          "execution_count": 45
        }
      ]
    },
    {
      "metadata": {
        "id": "iilcRCSaYpZ3",
        "colab_type": "code",
        "outputId": "f67f60cd-78b3-4a04-9ae7-b4429dbe18c1",
        "colab": {
          "base_uri": "https://localhost:8080/",
          "height": 34
        }
      },
      "cell_type": "code",
      "source": [
        "eval_df['Predicted'][0]"
      ],
      "execution_count": 46,
      "outputs": [
        {
          "output_type": "execute_result",
          "data": {
            "text/plain": [
              "-0.027884192764759064"
            ]
          },
          "metadata": {
            "tags": []
          },
          "execution_count": 46
        }
      ]
    },
    {
      "metadata": {
        "id": "UxJ5f4NyfnEm",
        "colab_type": "code",
        "colab": {}
      },
      "cell_type": "code",
      "source": [
        "eval_df['SQE_Class_Predicted_Rounded'] = (eval_df.Predicted_Rounded - eval_df.Class)**2\n"
      ],
      "execution_count": 0,
      "outputs": []
    },
    {
      "metadata": {
        "id": "IHIeNWo0gsyy",
        "colab_type": "code",
        "colab": {}
      },
      "cell_type": "code",
      "source": [
        "eval_df['SQE_Class_Predicted'] = (eval_df.Predicted - eval_df.Class)**2\n"
      ],
      "execution_count": 0,
      "outputs": []
    },
    {
      "metadata": {
        "id": "h006QSWsgbl5",
        "colab_type": "code",
        "outputId": "b2aa57e3-7cee-4998-ae59-6ac2e204453d",
        "colab": {
          "base_uri": "https://localhost:8080/",
          "height": 172
        }
      },
      "cell_type": "code",
      "source": [
        "eval_df.head(4)"
      ],
      "execution_count": 49,
      "outputs": [
        {
          "output_type": "execute_result",
          "data": {
            "text/html": [
              "<div>\n",
              "<style scoped>\n",
              "    .dataframe tbody tr th:only-of-type {\n",
              "        vertical-align: middle;\n",
              "    }\n",
              "\n",
              "    .dataframe tbody tr th {\n",
              "        vertical-align: top;\n",
              "    }\n",
              "\n",
              "    .dataframe thead th {\n",
              "        text-align: right;\n",
              "    }\n",
              "</style>\n",
              "<table border=\"1\" class=\"dataframe\">\n",
              "  <thead>\n",
              "    <tr style=\"text-align: right;\">\n",
              "      <th></th>\n",
              "      <th>Class</th>\n",
              "      <th>Predicted</th>\n",
              "      <th>Predicted_Rounded</th>\n",
              "      <th>SQE_Class_Predicted_Rounded</th>\n",
              "      <th>SQE_Class_Predicted</th>\n",
              "    </tr>\n",
              "  </thead>\n",
              "  <tbody>\n",
              "    <tr>\n",
              "      <th>0</th>\n",
              "      <td>0</td>\n",
              "      <td>-0.027884</td>\n",
              "      <td>0</td>\n",
              "      <td>0</td>\n",
              "      <td>0.000778</td>\n",
              "    </tr>\n",
              "    <tr>\n",
              "      <th>1</th>\n",
              "      <td>0</td>\n",
              "      <td>-0.036497</td>\n",
              "      <td>0</td>\n",
              "      <td>0</td>\n",
              "      <td>0.001332</td>\n",
              "    </tr>\n",
              "    <tr>\n",
              "      <th>2</th>\n",
              "      <td>0</td>\n",
              "      <td>0.029870</td>\n",
              "      <td>0</td>\n",
              "      <td>0</td>\n",
              "      <td>0.000892</td>\n",
              "    </tr>\n",
              "    <tr>\n",
              "      <th>3</th>\n",
              "      <td>0</td>\n",
              "      <td>-0.041923</td>\n",
              "      <td>0</td>\n",
              "      <td>0</td>\n",
              "      <td>0.001758</td>\n",
              "    </tr>\n",
              "  </tbody>\n",
              "</table>\n",
              "</div>"
            ],
            "text/plain": [
              "   Class  Predicted Predicted_Rounded SQE_Class_Predicted_Rounded  \\\n",
              "0      0  -0.027884                 0                           0   \n",
              "1      0  -0.036497                 0                           0   \n",
              "2      0   0.029870                 0                           0   \n",
              "3      0  -0.041923                 0                           0   \n",
              "\n",
              "   SQE_Class_Predicted  \n",
              "0             0.000778  \n",
              "1             0.001332  \n",
              "2             0.000892  \n",
              "3             0.001758  "
            ]
          },
          "metadata": {
            "tags": []
          },
          "execution_count": 49
        }
      ]
    },
    {
      "metadata": {
        "id": "bTCnxYicbVtk",
        "colab_type": "code",
        "colab": {}
      },
      "cell_type": "code",
      "source": [
        "sum_p=0\n",
        "sum_pr=0\n",
        "for i in range(0,149):\n",
        "  sum_p = sum_p + eval_df['SQE_Class_Predicted'][i]\n",
        "  sum_pr = sum_pr + eval_df['SQE_Class_Predicted_Rounded'][i]"
      ],
      "execution_count": 0,
      "outputs": []
    },
    {
      "metadata": {
        "id": "b0qPepQucWwr",
        "colab_type": "code",
        "outputId": "d7b32267-a48e-4130-dc68-6a8ece8e8968",
        "colab": {
          "base_uri": "https://localhost:8080/",
          "height": 34
        }
      },
      "cell_type": "code",
      "source": [
        "print(sum_p,sum_pr)\n",
        "len(eval_df)\n",
        "mean_p = sum_p / len(eval_df)\n",
        "mean_pr = sum_pr/ len(eval_df)\n"
      ],
      "execution_count": 51,
      "outputs": [
        {
          "output_type": "stream",
          "text": [
            "7.321608356429346 3\n"
          ],
          "name": "stdout"
        }
      ]
    },
    {
      "metadata": {
        "id": "nKgV8IL7hPqJ",
        "colab_type": "code",
        "outputId": "eccd2d02-8600-4080-912d-3d9e21dfcf93",
        "colab": {
          "base_uri": "https://localhost:8080/",
          "height": 34
        }
      },
      "cell_type": "code",
      "source": [
        "print(mean_p,mean_pr)"
      ],
      "execution_count": 52,
      "outputs": [
        {
          "output_type": "stream",
          "text": [
            "0.049138311116975475 0.020134228187919462\n"
          ],
          "name": "stdout"
        }
      ]
    },
    {
      "metadata": {
        "id": "_f-l7UJy1oaY",
        "colab_type": "code",
        "outputId": "623f9e6a-a6e0-428a-e883-ec384f1d1b2c",
        "colab": {
          "base_uri": "https://localhost:8080/",
          "height": 34
        }
      },
      "cell_type": "code",
      "source": [
        "rmse_p = math.sqrt(mean_p)\n",
        "rmse_pr = math.sqrt(mean_pr)\n",
        "\n",
        "print(rmse_p, rmse_pr)"
      ],
      "execution_count": 53,
      "outputs": [
        {
          "output_type": "stream",
          "text": [
            "0.22167162903036436 0.14189513095212064\n"
          ],
          "name": "stdout"
        }
      ]
    },
    {
      "metadata": {
        "id": "pWlZBldo1_zX",
        "colab_type": "code",
        "outputId": "baf79aa8-50e9-483b-8efe-094d08066bb5",
        "colab": {
          "base_uri": "https://localhost:8080/",
          "height": 87
        }
      },
      "cell_type": "code",
      "source": [
        "## CHECK CASES where predicted != Desired\n",
        "cnt = 0\n",
        "for i in range(0,149):\n",
        "  if eval_df['Predicted_Rounded'][i] != eval_df['Class'][i]:\n",
        "    cnt+=1\n",
        "    print(i,\"Desired Value\",eval_df['Class'][i],\"Predicted\",eval_df['Predicted_Rounded'][i] )\n",
        "  else:\n",
        "    continue\n",
        "\n",
        "print(\"Total Fail = {}\".format(cnt))"
      ],
      "execution_count": 54,
      "outputs": [
        {
          "output_type": "stream",
          "text": [
            "69 Desired Value 1 Predicted 2\n",
            "76 Desired Value 1 Predicted 2\n",
            "82 Desired Value 1 Predicted 2\n",
            "Total Fail = 3\n"
          ],
          "name": "stdout"
        }
      ]
    },
    {
      "metadata": {
        "id": "LGZ1KxPs2m6Y",
        "colab_type": "code",
        "outputId": "0178ce97-8f9e-45aa-e217-173863b72171",
        "colab": {
          "base_uri": "https://localhost:8080/",
          "height": 34
        }
      },
      "cell_type": "code",
      "source": [
        "print(cnt)"
      ],
      "execution_count": 55,
      "outputs": [
        {
          "output_type": "stream",
          "text": [
            "3\n"
          ],
          "name": "stdout"
        }
      ]
    },
    {
      "metadata": {
        "id": "ZQnNMUSj2rtC",
        "colab_type": "code",
        "outputId": "b97f992e-22fd-4947-ee4b-50137f3290f6",
        "colab": {
          "base_uri": "https://localhost:8080/",
          "height": 34
        }
      },
      "cell_type": "code",
      "source": [
        "total_fl = 3/149\n",
        "print(\"Accuracy is \",100*(1 - total_fl),\"%\")"
      ],
      "execution_count": 57,
      "outputs": [
        {
          "output_type": "stream",
          "text": [
            "Accuracy is  97.98657718120806 %\n"
          ],
          "name": "stdout"
        }
      ]
    },
    {
      "metadata": {
        "id": "QyWDGaVy3ufc",
        "colab_type": "code",
        "colab": {}
      },
      "cell_type": "code",
      "source": [
        ""
      ],
      "execution_count": 0,
      "outputs": []
    }
  ]
}